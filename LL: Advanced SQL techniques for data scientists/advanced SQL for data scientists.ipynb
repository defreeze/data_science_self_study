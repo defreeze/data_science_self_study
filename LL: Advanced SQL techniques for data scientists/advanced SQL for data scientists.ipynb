{
 "cells": [
  {
   "cell_type": "markdown",
   "id": "cross-chocolate",
   "metadata": {},
   "source": [
    "## Advanced SQL techniques for data scientists\n",
    "\n",
    "This document contains notes from the course advanced SQL techniques for data scientists found on LinkedIn Learning from the following link.\n",
    "- https://www.linkedin.com/learning/advanced-sql-for-data-scientists-13972889/advanced-sql-techniques-for-data-science?u=2046164"
   ]
  },
  {
   "cell_type": "code",
   "execution_count": 12,
   "id": "recorded-opportunity",
   "metadata": {},
   "outputs": [
    {
     "name": "stdout",
     "output_type": "stream",
     "text": [
      "Defaulting to user installation because normal site-packages is not writeable\n",
      "Requirement already satisfied: sql in /home/alex/.local/lib/python3.6/site-packages (0.4.0)\n",
      "\u001b[33mWARNING: You are using pip version 21.1.3; however, version 21.2.1 is available.\n",
      "You should consider upgrading via the '/usr/bin/python3 -m pip install --upgrade pip' command.\u001b[0m\n",
      "importing completed\n"
     ]
    }
   ],
   "source": [
    "# install libraries for using SQL in jupyter notebooks\n",
    "!pip install sql\n",
    "import sql\n",
    "print('importing completed')"
   ]
  },
  {
   "cell_type": "markdown",
   "id": "nasty-gentleman",
   "metadata": {},
   "source": [
    "### data modeling: tables\n",
    "\n",
    "#### Normalization\n",
    "- minimize the risk of data anomolies\n",
    "data anomolies: error or incosistencies in the data\n",
    "update anomaly\n",
    "insertion anomaly\n",
    "deletion anomaly\n",
    "\n",
    "avoiding anomalies by using normalization rules\n",
    "- First normal form: values in each column of a table must be atomic.\n",
    "- second normal form: all attributes not part of the key depend on the key.\n",
    "- third normal form: no transitive dependencies.\n",
    "\n",
    "\n",
    "OLTP | analytical |\n",
    "--- | --- |\n",
    "online transaction processing | data analysis | \n",
    "many reads and writes | *many reads by many processes |\n",
    "many processes | many writes by few processes |\n",
    "often normalized to 3rd form | often denormalized |\n",
    "\n",
    "#### Denormalization\n",
    "- improve read performance by reducing normalization\n",
    "\n",
    "Note that this applies mostly for analytical databases. In exchange of not being normalized we get much better performance. Analytical databases have relatively low risk of anomalies because there are few updates, only have batch inserts, streaming inserts: simple data structures, no need for complex joins. \n",
    "\n",
    "Data is often redundant.\n",
    "non-atomic values.\n",
    "Transitive dependencies.\n",
    "\n",
    "denormalized: star schema\n",
    "row level orientation is commen for the star schema.\n",
    "\n",
    "denormalized: wide column\n",
    "\n",
    "##### advantages of denormalization\n",
    "- easy to query\n",
    "- efficient queries\n",
    "- simplified load procedures\n",
    "\n",
    "#### Partitioning\n",
    "Horizontal partitioning\n",
    "- limit scans to subset of partitions\n",
    "- local indexes for each partition\n",
    "- efficient adding and deleting\n",
    "\n",
    "vertical partitioning\n",
    "- increase number of rows in data block\n",
    "- global indexes for each partition\n",
    "- can reduce I/O (input/ output)\n",
    "\n",
    "Hash partitioning\n",
    "- partition on modules of hash partition key\n",
    "- data does not logically group into sub-groups\n",
    "\n",
    "###### example partitioning\n",
    "\n",
    "CREATE TABLE test_table PARTITION OF table.origin\n",
    "    FOR VALUES FROM ('2021-01-01') TO ('2021-05-01');"
   ]
  },
  {
   "cell_type": "markdown",
   "id": "heated-coordination",
   "metadata": {},
   "source": [
    "#### Materialized views\n",
    "- persisted results of a query\n",
    "- execute a query once: save results once -> read many times\n",
    "- a form of caching\n",
    "- trading space for time\n",
    "\n",
    "When to use:\n",
    "- long running queries\n",
    "- complex queries, especially joins\n",
    "- compute aggregates or other derived data\n",
    "- seperate read and write operations\n",
    "When not to use:\n",
    "- eventual consistency\n",
    "- cost of the update process\n",
    "- concurrent reads during update? \n",
    "- size of marerialized view data\n",
    "- refresh frequency\n",
    "\n",
    "##### example materialized view\n",
    "CREATE MATERIALZIED VIEW DB.table as\n",
    "SELECT ...\n",
    "FROM ...\n",
    "(any SQL code can be added)\n",
    "\n",
    "#### Read Replicas\n",
    "- When data is written to the primary DB it is also stored in the read replica. \n",
    "QUeries can de directed to the read replica.\n",
    "This way the Primary DB can focus on the write computations while the replica helps with ofloading read computations. \n"
   ]
  },
  {
   "cell_type": "markdown",
   "id": "administrative-chorus",
   "metadata": {},
   "source": [
    "# Data Modeling: indexes"
   ]
  },
  {
   "cell_type": "markdown",
   "id": "religious-thread",
   "metadata": {},
   "source": [
    "Indexing for analytics queries\n",
    "- reduces need to scan data blocks\n",
    "- comes at cost of additional wirtes during data laoding\n",
    "- the higher the cardinality of indext data, the better the performance imrprovement\n",
    "- Not used in analytical data bases, suc as gogole redshift\n",
    "\n",
    "\n",
    "#### B-tree indexes\n",
    "B: balanced\n",
    "- capture small amounts of data\n",
    "- work well in many different cases\n",
    "- ability to look up values in log time\n",
    "\n",
    "#### Bitmap indexes\n",
    "- used when there is a small number of possible values ij a column\n",
    "- filter by bitwise operations such as AND, OR and NOT\n",
    "- Time to access is based on time to perform bitwise operations\n",
    "- read intensive use cases, few writes\n",
    "\n",
    "Bitmap index availability\n",
    "- some database solutions enable to build bitmap indexes explicitly\n",
    "- postgreSQL not, it does it when possible\n",
    "\n",
    "#### Hash index\n",
    "- size of hash value depends on algorithm used\n",
    "- no order preserving with hash functions\n",
    "- similar inputs have vastly different outputs\n",
    "\n",
    "basically each hash value will be different.\n",
    "Use hash indexes:\n",
    "- equality operations only\n",
    "- can be smaller than b-tree\n",
    "- comparable with speed of b-tree\n",
    "\n",
    "#### GIST and SP-GIST indexes\n",
    "These are only available in postgreSQL. Used as template to implement other indexes. Only used for special data types, discussed later on.\n",
    "generalized search tree\n",
    "used in PostgreSQL for indexing\n",
    "SP gist: space partitioned GiST\n",
    "\n",
    "#### GIN and BRIN indexes\n",
    "These are only available in postgreSQL.\n",
    "GIN: Generalized Inverted Index\n",
    "- used when data to be indexed are composite values\n",
    "- composite values require index to search for elements within composite item\n",
    "\n",
    "insertions can be slow.\n",
    "BRIN: block range index\n",
    "- for very large tables\n",
    "- column data has correlation with physical location (postal code)\n",
    "- BRIN indexes store summary information about block ranges\n",
    "- BRIN indexes tend to be small\n"
   ]
  },
  {
   "cell_type": "markdown",
   "id": "conservative-nightmare",
   "metadata": {},
   "source": [
    "# Query Optimization"
   ]
  },
  {
   "cell_type": "markdown",
   "id": "dimensional-shoot",
   "metadata": {},
   "source": [
    "GENERATE statement\n",
    "select * from generate_series(1,100) as tl\n",
    "- generate a list of 100 integers.\n",
    "- instead of a general list we can specify specific timeseries (with time increments we can specify).\n",
    "- this can be used to generate data for tables.\n",
    "\n",
    "Use EXPLAIN before a query to get info about the QUERY plan.\n",
    "- this is useful to see what the query actually does and in which order or parralel.\n",
    "- EXPLAIN is also useful to review how good joins are.\n",
    "\n",
    "\n",
    "Ways to join\n",
    "- hash join (if you work with a lot of data)\n",
    "- nested loops (good for small data set\n",
    "- sort merge (if you have a lot of data and the output needs to be sorted)\n",
    "\n",
    "Run ANALYZE to ensure statistics are up to date."
   ]
  },
  {
   "cell_type": "markdown",
   "id": "expired-translator",
   "metadata": {},
   "source": [
    "# User-Defined Functions"
   ]
  },
  {
   "cell_type": "markdown",
   "id": "seven-carol",
   "metadata": {},
   "source": []
  }
 ],
 "metadata": {
  "kernelspec": {
   "display_name": "Python 3",
   "language": "python",
   "name": "python3"
  },
  "language_info": {
   "codemirror_mode": {
    "name": "ipython",
    "version": 3
   },
   "file_extension": ".py",
   "mimetype": "text/x-python",
   "name": "python",
   "nbconvert_exporter": "python",
   "pygments_lexer": "ipython3",
   "version": "3.6.9"
  }
 },
 "nbformat": 4,
 "nbformat_minor": 5
}
