{
 "cells": [
  {
   "cell_type": "markdown",
   "id": "theoretical-witch",
   "metadata": {},
   "source": [
    "Code based on https://www.kaggle.com/thebrownviking20/everything-you-can-do-with-a-time-series\n",
    "also view this https://www.kaggle.com/learn/intro-to-machine-learning\n"
   ]
  },
  {
   "cell_type": "code",
   "execution_count": 20,
   "id": "alien-breakdown",
   "metadata": {},
   "outputs": [
    {
     "name": "stdout",
     "output_type": "stream",
     "text": [
      "Defaulting to user installation because normal site-packages is not writeable\n",
      "Requirement already satisfied: xgboost in /home/alex/.local/lib/python3.6/site-packages (1.4.2)\n",
      "Requirement already satisfied: numpy in /home/alex/.local/lib/python3.6/site-packages (from xgboost) (1.19.5)\n",
      "Requirement already satisfied: scipy in /home/alex/.local/lib/python3.6/site-packages (from xgboost) (1.4.1)\n",
      "Defaulting to user installation because normal site-packages is not writeable\n",
      "Collecting tensorflow==2.4\n",
      "  Downloading tensorflow-2.4.0-cp36-cp36m-manylinux2010_x86_64.whl (394.7 MB)\n",
      "\u001b[K     |████████████████████████████████| 394.7 MB 5.7 kB/s eta 0:00:01   |▌                               | 6.8 MB 2.5 MB/s eta 0:02:39     |█▏                              | 14.5 MB 521 kB/s eta 0:12:09     |██                              | 24.6 MB 2.0 MB/s eta 0:03:10     |██▋                             | 31.8 MB 1.9 MB/s eta 0:03:12     |██▋                             | 32.7 MB 2.7 MB/s eta 0:02:16     |████▍                           | 54.6 MB 3.0 MB/s eta 0:01:56     |████▋                           | 56.7 MB 3.6 MB/s eta 0:01:34     |█████▎                          | 64.9 MB 2.9 MB/s eta 0:01:55     |█████▋                          | 69.5 MB 2.7 MB/s eta 0:02:03     |██████                          | 73.9 MB 3.4 MB/s eta 0:01:36     |██████                          | 74.7 MB 2.4 MB/s eta 0:02:15     |███████▉                        | 96.2 MB 1.8 MB/s eta 0:02:44     |█████████▍                      | 115.2 MB 1.6 MB/s eta 0:02:52     |██████████▏                     | 125.6 MB 1.4 MB/s eta 0:03:06     |██████████▌                     | 129.3 MB 1.7 MB/s eta 0:02:39     |██████████▋                     | 130.8 MB 1.3 MB/s eta 0:03:30     |██████████▉                     | 133.3 MB 1.1 MB/s eta 0:04:09     |███████████▍                    | 139.8 MB 2.4 MB/s eta 0:01:48     |████████████▉                   | 157.9 MB 1.1 MB/s eta 0:03:33     |█████████████▊                  | 169.0 MB 431 kB/s eta 0:08:43     |██████████████▌                 | 178.9 MB 3.2 MB/s eta 0:01:07     |███████████████                 | 184.5 MB 1.8 MB/s eta 0:01:58     |████████████████▋               | 205.2 MB 2.0 MB/s eta 0:01:35     |█████████████████▎              | 212.5 MB 1.5 MB/s eta 0:02:01     |█████████████████▎              | 212.6 MB 1.5 MB/s eta 0:02:01     |██████████████████▍             | 226.7 MB 1.0 MB/s eta 0:02:42     |██████████████████▊             | 231.4 MB 4.6 MB/s eta 0:00:36     |██████████████████▉             | 232.9 MB 4.6 MB/s eta 0:00:36     |████████████████████            | 246.0 MB 2.8 MB/s eta 0:00:53     |███████████████████████▍        | 288.8 MB 2.6 MB/s eta 0:00:41     |█████████████████████████▍      | 312.5 MB 915 kB/s eta 0:01:30     |█████████████████████████▉      | 318.2 MB 2.2 MB/s eta 0:00:36     |██████████████████████████▏     | 322.9 MB 2.3 MB/s eta 0:00:32     |██████████████████████████▌     | 327.2 MB 1.8 MB/s eta 0:00:39     |████████████████████████████▋   | 353.5 MB 2.2 MB/s eta 0:00:19     |█████████████████████████████   | 358.9 MB 1.2 MB/s eta 0:00:29     |█████████████████████████████▉  | 368.5 MB 2.5 MB/s eta 0:00:11     |███████████████████████████████▏| 384.0 MB 626 kB/s eta 0:00:18     |███████████████████████████████▏| 385.1 MB 605 kB/s eta 0:00:16\n",
      "\u001b[?25hCollecting h5py~=2.10.0\n",
      "  Downloading h5py-2.10.0-cp36-cp36m-manylinux1_x86_64.whl (2.9 MB)\n",
      "\u001b[K     |████████████████████████████████| 2.9 MB 1.7 MB/s eta 0:00:01     |██                              | 174 kB 1.1 MB/s eta 0:00:03     |█████████████████████████▍      | 2.3 MB 1.7 MB/s eta 0:00:01\n",
      "\u001b[?25hRequirement already satisfied: protobuf>=3.9.2 in /home/alex/.local/lib/python3.6/site-packages (from tensorflow==2.4) (3.17.1)\n",
      "Requirement already satisfied: keras-preprocessing~=1.1.2 in /home/alex/.local/lib/python3.6/site-packages (from tensorflow==2.4) (1.1.2)\n",
      "Requirement already satisfied: six~=1.15.0 in /home/alex/.local/lib/python3.6/site-packages (from tensorflow==2.4) (1.15.0)\n",
      "Collecting tensorflow-estimator<2.5.0,>=2.4.0rc0\n",
      "  Downloading tensorflow_estimator-2.4.0-py2.py3-none-any.whl (462 kB)\n",
      "\u001b[K     |████████████████████████████████| 462 kB 1.4 MB/s eta 0:00:01\n",
      "\u001b[?25hRequirement already satisfied: astunparse~=1.6.3 in /home/alex/.local/lib/python3.6/site-packages (from tensorflow==2.4) (1.6.3)\n",
      "Requirement already satisfied: termcolor~=1.1.0 in /home/alex/.local/lib/python3.6/site-packages (from tensorflow==2.4) (1.1.0)\n",
      "Requirement already satisfied: wheel~=0.35 in /home/alex/.local/lib/python3.6/site-packages (from tensorflow==2.4) (0.36.2)\n",
      "Requirement already satisfied: typing-extensions~=3.7.4 in /home/alex/.local/lib/python3.6/site-packages (from tensorflow==2.4) (3.7.4.3)\n",
      "Requirement already satisfied: opt-einsum~=3.3.0 in /home/alex/.local/lib/python3.6/site-packages (from tensorflow==2.4) (3.3.0)\n",
      "Requirement already satisfied: tensorboard~=2.4 in /home/alex/.local/lib/python3.6/site-packages (from tensorflow==2.4) (2.5.0)\n",
      "Requirement already satisfied: numpy~=1.19.2 in /home/alex/.local/lib/python3.6/site-packages (from tensorflow==2.4) (1.19.5)\n",
      "Requirement already satisfied: flatbuffers~=1.12.0 in /home/alex/.local/lib/python3.6/site-packages (from tensorflow==2.4) (1.12)\n",
      "Collecting grpcio~=1.32.0\n",
      "  Downloading grpcio-1.32.0-cp36-cp36m-manylinux2014_x86_64.whl (3.8 MB)\n",
      "\u001b[K     |████████████████████████████████| 3.8 MB 1.6 MB/s eta 0:00:01     |█▌                              | 174 kB 1.1 MB/s eta 0:00:04\n",
      "\u001b[?25hRequirement already satisfied: wrapt~=1.12.1 in /home/alex/.local/lib/python3.6/site-packages (from tensorflow==2.4) (1.12.1)\n",
      "Requirement already satisfied: google-pasta~=0.2 in /home/alex/.local/lib/python3.6/site-packages (from tensorflow==2.4) (0.2.0)\n",
      "Collecting gast==0.3.3\n",
      "  Downloading gast-0.3.3-py2.py3-none-any.whl (9.7 kB)\n",
      "Requirement already satisfied: absl-py~=0.10 in /home/alex/.local/lib/python3.6/site-packages (from tensorflow==2.4) (0.12.0)\n",
      "Requirement already satisfied: setuptools>=41.0.0 in /usr/local/lib/python3.6/dist-packages (from tensorboard~=2.4->tensorflow==2.4) (54.1.2)\n",
      "Requirement already satisfied: google-auth-oauthlib<0.5,>=0.4.1 in /home/alex/.local/lib/python3.6/site-packages (from tensorboard~=2.4->tensorflow==2.4) (0.4.4)\n",
      "Requirement already satisfied: tensorboard-data-server<0.7.0,>=0.6.0 in /home/alex/.local/lib/python3.6/site-packages (from tensorboard~=2.4->tensorflow==2.4) (0.6.1)\n",
      "Requirement already satisfied: werkzeug>=0.11.15 in /home/alex/.local/lib/python3.6/site-packages (from tensorboard~=2.4->tensorflow==2.4) (2.0.1)\n",
      "Requirement already satisfied: markdown>=2.6.8 in /home/alex/.local/lib/python3.6/site-packages (from tensorboard~=2.4->tensorflow==2.4) (3.3.4)\n",
      "Requirement already satisfied: google-auth<2,>=1.6.3 in /home/alex/.local/lib/python3.6/site-packages (from tensorboard~=2.4->tensorflow==2.4) (1.30.1)\n",
      "Requirement already satisfied: requests<3,>=2.21.0 in /home/alex/.local/lib/python3.6/site-packages (from tensorboard~=2.4->tensorflow==2.4) (2.25.1)\n",
      "Requirement already satisfied: tensorboard-plugin-wit>=1.6.0 in /home/alex/.local/lib/python3.6/site-packages (from tensorboard~=2.4->tensorflow==2.4) (1.8.0)\n",
      "Requirement already satisfied: cachetools<5.0,>=2.0.0 in /home/alex/.local/lib/python3.6/site-packages (from google-auth<2,>=1.6.3->tensorboard~=2.4->tensorflow==2.4) (4.2.2)\n",
      "Requirement already satisfied: rsa<5,>=3.1.4 in /home/alex/.local/lib/python3.6/site-packages (from google-auth<2,>=1.6.3->tensorboard~=2.4->tensorflow==2.4) (4.7.2)\n",
      "Requirement already satisfied: pyasn1-modules>=0.2.1 in /home/alex/.local/lib/python3.6/site-packages (from google-auth<2,>=1.6.3->tensorboard~=2.4->tensorflow==2.4) (0.2.8)\n",
      "Requirement already satisfied: requests-oauthlib>=0.7.0 in /home/alex/.local/lib/python3.6/site-packages (from google-auth-oauthlib<0.5,>=0.4.1->tensorboard~=2.4->tensorflow==2.4) (1.3.0)\n",
      "Requirement already satisfied: importlib-metadata in /home/alex/.local/lib/python3.6/site-packages (from markdown>=2.6.8->tensorboard~=2.4->tensorflow==2.4) (3.7.3)\n",
      "Requirement already satisfied: pyasn1<0.5.0,>=0.4.6 in /home/alex/.local/lib/python3.6/site-packages (from pyasn1-modules>=0.2.1->google-auth<2,>=1.6.3->tensorboard~=2.4->tensorflow==2.4) (0.4.8)\n"
     ]
    },
    {
     "name": "stdout",
     "output_type": "stream",
     "text": [
      "Requirement already satisfied: chardet<5,>=3.0.2 in /usr/lib/python3/dist-packages (from requests<3,>=2.21.0->tensorboard~=2.4->tensorflow==2.4) (3.0.4)\n",
      "Requirement already satisfied: idna<3,>=2.5 in /home/alex/.local/lib/python3.6/site-packages (from requests<3,>=2.21.0->tensorboard~=2.4->tensorflow==2.4) (2.10)\n",
      "Requirement already satisfied: certifi>=2017.4.17 in /usr/lib/python3/dist-packages (from requests<3,>=2.21.0->tensorboard~=2.4->tensorflow==2.4) (2018.1.18)\n",
      "Requirement already satisfied: urllib3<1.27,>=1.21.1 in /usr/lib/python3/dist-packages (from requests<3,>=2.21.0->tensorboard~=2.4->tensorflow==2.4) (1.22)\n",
      "Requirement already satisfied: oauthlib>=3.0.0 in /home/alex/.local/lib/python3.6/site-packages (from requests-oauthlib>=0.7.0->google-auth-oauthlib<0.5,>=0.4.1->tensorboard~=2.4->tensorflow==2.4) (3.1.0)\n",
      "Requirement already satisfied: dataclasses in /home/alex/.local/lib/python3.6/site-packages (from werkzeug>=0.11.15->tensorboard~=2.4->tensorflow==2.4) (0.8)\n",
      "Requirement already satisfied: zipp>=0.5 in /home/alex/.local/lib/python3.6/site-packages (from importlib-metadata->markdown>=2.6.8->tensorboard~=2.4->tensorflow==2.4) (3.4.1)\n",
      "Installing collected packages: grpcio, tensorflow-estimator, h5py, gast, tensorflow\n",
      "  Attempting uninstall: grpcio\n",
      "    Found existing installation: grpcio 1.34.1\n",
      "    Uninstalling grpcio-1.34.1:\n",
      "      Successfully uninstalled grpcio-1.34.1\n",
      "  Attempting uninstall: tensorflow-estimator\n",
      "    Found existing installation: tensorflow-estimator 2.5.0\n",
      "    Uninstalling tensorflow-estimator-2.5.0:\n",
      "      Successfully uninstalled tensorflow-estimator-2.5.0\n",
      "  Attempting uninstall: h5py\n",
      "    Found existing installation: h5py 3.1.0\n",
      "    Uninstalling h5py-3.1.0:\n",
      "      Successfully uninstalled h5py-3.1.0\n",
      "  Attempting uninstall: gast\n",
      "    Found existing installation: gast 0.4.0\n",
      "    Uninstalling gast-0.4.0:\n",
      "      Successfully uninstalled gast-0.4.0\n",
      "Successfully installed gast-0.3.3 grpcio-1.32.0 h5py-2.10.0 tensorflow-2.4.0 tensorflow-estimator-2.4.0\n",
      "Defaulting to user installation because normal site-packages is not writeable\n",
      "\u001b[31mERROR: Could not find a version that satisfies the requirement kerastuner (from versions: none)\u001b[0m\n",
      "\u001b[31mERROR: No matching distribution found for kerastuner\u001b[0m\n"
     ]
    },
    {
     "ename": "ModuleNotFoundError",
     "evalue": "No module named 'kerastuner'",
     "output_type": "error",
     "traceback": [
      "\u001b[0;31m---------------------------------------------------------------------------\u001b[0m",
      "\u001b[0;31mModuleNotFoundError\u001b[0m                       Traceback (most recent call last)",
      "\u001b[0;32m<ipython-input-20-ebd7401c307b>\u001b[0m in \u001b[0;36m<module>\u001b[0;34m\u001b[0m\n\u001b[1;32m     29\u001b[0m \u001b[0;32mfrom\u001b[0m \u001b[0mtensorflow\u001b[0m\u001b[0;34m.\u001b[0m\u001b[0mkeras\u001b[0m\u001b[0;34m.\u001b[0m\u001b[0mcallbacks\u001b[0m \u001b[0;32mimport\u001b[0m \u001b[0mEarlyStopping\u001b[0m\u001b[0;34m,\u001b[0m \u001b[0mModelCheckpoint\u001b[0m\u001b[0;34m,\u001b[0m \u001b[0mLearningRateScheduler\u001b[0m\u001b[0;34m,\u001b[0m \u001b[0mReduceLROnPlateau\u001b[0m\u001b[0;34m\u001b[0m\u001b[0;34m\u001b[0m\u001b[0m\n\u001b[1;32m     30\u001b[0m \u001b[0;34m\u001b[0m\u001b[0m\n\u001b[0;32m---> 31\u001b[0;31m \u001b[0;32mimport\u001b[0m \u001b[0mkerastuner\u001b[0m \u001b[0;32mas\u001b[0m \u001b[0mkt\u001b[0m\u001b[0;34m\u001b[0m\u001b[0;34m\u001b[0m\u001b[0m\n\u001b[0m\u001b[1;32m     32\u001b[0m \u001b[0;32mimport\u001b[0m \u001b[0mmatplotlib\u001b[0m\u001b[0;34m.\u001b[0m\u001b[0mpyplot\u001b[0m \u001b[0;32mas\u001b[0m \u001b[0mplt\u001b[0m\u001b[0;34m\u001b[0m\u001b[0;34m\u001b[0m\u001b[0m\n\u001b[1;32m     33\u001b[0m \u001b[0;32mimport\u001b[0m \u001b[0mseaborn\u001b[0m \u001b[0;32mas\u001b[0m \u001b[0msns\u001b[0m\u001b[0;34m\u001b[0m\u001b[0;34m\u001b[0m\u001b[0m\n",
      "\u001b[0;31mModuleNotFoundError\u001b[0m: No module named 'kerastuner'"
     ]
    }
   ],
   "source": [
    "!{sys.executable} -m pip install xgboost \n",
    "!{sys.executable} -m pip install tensorflow==2.4\n",
    "!{sys.executable} -m pip install kerastuner\n",
    "\n",
    "import numpy as np\n",
    "import pandas as pd\n",
    "import time\n",
    "import string\n",
    "import re\n",
    "import math\n",
    "\n",
    "from collections import Counter\n",
    "\n",
    "from sklearn.model_selection import train_test_split, cross_val_score\n",
    "from sklearn.pipeline import make_pipeline\n",
    "from sklearn.feature_extraction.text import CountVectorizer, TfidfVectorizer\n",
    "from sklearn.linear_model import LinearRegression, Ridge, Lasso, TweedieRegressor,HuberRegressor\n",
    "from sklearn.naive_bayes import MultinomialNB\n",
    "from sklearn.metrics import mean_squared_error as mse\n",
    "\n",
    "\n",
    "import xgboost as xgb\n",
    "\n",
    "import tensorflow as tf\n",
    "from tensorflow import keras\n",
    "from tensorflow.keras.metrics import RootMeanSquaredError\n",
    "from tensorflow.keras.preprocessing.text import Tokenizer\n",
    "from tensorflow.keras.preprocessing.sequence import pad_sequences\n",
    "from tensorflow.keras.callbacks import EarlyStopping, ModelCheckpoint, LearningRateScheduler, ReduceLROnPlateau\n",
    "\n",
    "import kerastuner as kt\n",
    "import matplotlib.pyplot as plt\n",
    "import seaborn as sns\n",
    "from wordcloud import WordCloud\n",
    "\n",
    "from bokeh.plotting import figure\n",
    "from bokeh.models import ColumnDataSource\n",
    "from bokeh.io import curdoc, show, output_notebook\n",
    "output_notebook()\n",
    "\n",
    "import nltk\n",
    "from nltk import word_tokenize\n",
    "from nltk.stem.snowball import SnowballStemmer\n",
    "from nltk.corpus import stopwords\n",
    "stop_words = stopwords.words('english')\n",
    "\n",
    "import spacy\n",
    "nlp = spacy.load('en_core_web_lg')\n",
    "\n",
    "import transformers\n",
    "from transformers import BertTokenizer, TFBertModel, RobertaTokenizer, TFRobertaModel\n",
    "print('--------------------importing completed--------------------------------')"
   ]
  },
  {
   "cell_type": "code",
   "execution_count": null,
   "id": "golden-westminster",
   "metadata": {},
   "outputs": [],
   "source": [
    "df_train = pd.read_csv('/kaggle/input/commonlitreadabilityprize/train.csv')\n",
    "df_test = pd.read_csv('/kaggle/input/commonlitreadabilityprize/test.csv')\n",
    "df_submission = pd.read_csv('/kaggle/input/commonlitreadabilityprize/sample_submission.csv')\n",
    "\n",
    "print(\" Training dataset shape : \" + str(df_train.shape))\n",
    "print(\" Testing dataset shape : \" + str(df_test.shape))"
   ]
  },
  {
   "cell_type": "code",
   "execution_count": null,
   "id": "roman-projection",
   "metadata": {},
   "outputs": [],
   "source": [
    "df_train.head()"
   ]
  },
  {
   "cell_type": "code",
   "execution_count": null,
   "id": "peripheral-stranger",
   "metadata": {},
   "outputs": [],
   "source": [
    "df_train['excerpt'][0]"
   ]
  },
  {
   "cell_type": "code",
   "execution_count": null,
   "id": "union-ladder",
   "metadata": {},
   "outputs": [],
   "source": [
    "df_test.head()"
   ]
  },
  {
   "cell_type": "code",
   "execution_count": null,
   "id": "molecular-camel",
   "metadata": {},
   "outputs": [],
   "source": [
    "df_submission.head()"
   ]
  },
  {
   "cell_type": "markdown",
   "id": "proud-consideration",
   "metadata": {},
   "source": [
    "## Exploratory analysis"
   ]
  },
  {
   "cell_type": "code",
   "execution_count": null,
   "id": "younger-danish",
   "metadata": {},
   "outputs": [],
   "source": [
    "# Only url_legal and license columns appear to be having missing values\n",
    "df_train.isnull().sum()"
   ]
  },
  {
   "cell_type": "code",
   "execution_count": null,
   "id": "political-ranking",
   "metadata": {},
   "outputs": [],
   "source": [
    "df_test.isnull().sum()"
   ]
  },
  {
   "cell_type": "code",
   "execution_count": null,
   "id": "cooked-karaoke",
   "metadata": {},
   "outputs": [],
   "source": [
    "# Examples with the 5 lowest target values\n",
    "display(df_train.sort_values(by=['target']).head())"
   ]
  },
  {
   "cell_type": "code",
   "execution_count": null,
   "id": "tutorial-tolerance",
   "metadata": {},
   "outputs": [],
   "source": [
    "# Examples with the 5 highest target values\n",
    "display(df_train.sort_values(by=['target'], ascending=False).head())"
   ]
  },
  {
   "cell_type": "code",
   "execution_count": null,
   "id": "sunset-settlement",
   "metadata": {},
   "outputs": [],
   "source": [
    "# View target distribution\n",
    "fig, ax = plt.subplots(1, 1, figsize=(20, 6))\n",
    "sns.distplot(df_train['target'], ax=ax, color ='green')\n",
    "plt.show()"
   ]
  },
  {
   "cell_type": "code",
   "execution_count": null,
   "id": "funky-chorus",
   "metadata": {},
   "outputs": [],
   "source": [
    "# View std_error distribution\n",
    "fig, ax = plt.subplots(1, 1, figsize=(20, 6))\n",
    "#sns.distplot(df_train['standard_error'], ax=ax, color ='green')\n",
    "plt.show()"
   ]
  },
  {
   "cell_type": "code",
   "execution_count": null,
   "id": "russian-serve",
   "metadata": {},
   "outputs": [],
   "source": [
    "def msv_1(data, color = 'yellow', edgecolor = 'black', height = 3, width = 15):\n",
    "    plt.figure(figsize = (width, height))\n",
    "    percentage = (data.isnull().mean()) * 100\n",
    "    percentage.sort_values(ascending = False).plot.bar(color = color, edgecolor = edgecolor)\n",
    "\n",
    "    plt.title('Missing values percentage per column', fontsize=20, weight='bold' )\n",
    "    plt.xlabel('Columns', size=15, weight='bold')\n",
    "    plt.ylabel('Missing values percentage')\n",
    "    plt.yticks(weight ='bold')\n",
    "    \n",
    "    return plt.show()\n",
    "msv_1(df_train, color=sns.color_palette('flare',15))"
   ]
  },
  {
   "cell_type": "code",
   "execution_count": null,
   "id": "timely-fleet",
   "metadata": {},
   "outputs": [],
   "source": [
    "# Count number of words in excerpts and maximum count\n",
    "count = df_train['excerpt'].str.split().str.len()\n",
    "print(\"Number of words in excerpts:\\n\",count)\n",
    "print(\"Max word count from excerpt: \", max(count))"
   ]
  }
 ],
 "metadata": {
  "kernelspec": {
   "display_name": "Python 3",
   "language": "python",
   "name": "python3"
  },
  "language_info": {
   "codemirror_mode": {
    "name": "ipython",
    "version": 3
   },
   "file_extension": ".py",
   "mimetype": "text/x-python",
   "name": "python",
   "nbconvert_exporter": "python",
   "pygments_lexer": "ipython3",
   "version": "3.6.9"
  }
 },
 "nbformat": 4,
 "nbformat_minor": 5
}
