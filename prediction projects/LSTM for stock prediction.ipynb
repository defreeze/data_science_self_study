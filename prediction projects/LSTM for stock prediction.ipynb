{
 "cells": [
  {
   "cell_type": "markdown",
   "id": "juvenile-miller",
   "metadata": {},
   "source": [
    "## Stock price prediction \n",
    "\n",
    "sources: \n",
    "- https://www.askpython.com/python/examples/stock-price-prediction-python\n",
    "- https://towardsdatascience.com/easiest-guide-to-getting-stock-data-with-python-f74b5f75d179\n",
    "- https://jakevdp.github.io/PythonDataScienceHandbook/04.11-settings-and-stylesheets.html"
   ]
  },
  {
   "cell_type": "code",
   "execution_count": 58,
   "id": "surface-passport",
   "metadata": {},
   "outputs": [
    {
     "name": "stdout",
     "output_type": "stream",
     "text": [
      "importing finished\n"
     ]
    }
   ],
   "source": [
    "# Import libraries\n",
    "\n",
    "import sys\n",
    "!pip install -U -q segmentation-models\n",
    "!pip install -U -q tensorflow==2.4.1\n",
    "!pip install -U -q keras==2.3.1\n",
    "!pip install -U -q tensorflow-estimator==2.4.0\n",
    "!pip install -U -q yfinance\n",
    "\n",
    "import tensorflow as tf\n",
    "import tensorflow.keras\n",
    "import segmentation_models as sm\n",
    "\n",
    "from tensorflow.keras import Sequential\n",
    "from tensorflow.keras.layers import Dense, LSTM\n",
    "\n",
    "import yfinance as yf\n",
    "import numpy as np\n",
    "import pandas as pd\n",
    "import matplotlib.pyplot as plt\n",
    "import math\n",
    "from sklearn.preprocessing import MinMaxScaler\n",
    "\n",
    "print('importing finished')"
   ]
  },
  {
   "cell_type": "code",
   "execution_count": 59,
   "id": "acting-solomon",
   "metadata": {},
   "outputs": [
    {
     "name": "stdout",
     "output_type": "stream",
     "text": [
      "[*********************100%***********************]  1 of 1 completed\n"
     ]
    },
    {
     "data": {
      "text/html": [
       "<div>\n",
       "<style scoped>\n",
       "    .dataframe tbody tr th:only-of-type {\n",
       "        vertical-align: middle;\n",
       "    }\n",
       "\n",
       "    .dataframe tbody tr th {\n",
       "        vertical-align: top;\n",
       "    }\n",
       "\n",
       "    .dataframe thead th {\n",
       "        text-align: right;\n",
       "    }\n",
       "</style>\n",
       "<table border=\"1\" class=\"dataframe\">\n",
       "  <thead>\n",
       "    <tr style=\"text-align: right;\">\n",
       "      <th></th>\n",
       "      <th>Date</th>\n",
       "      <th>Open</th>\n",
       "      <th>High</th>\n",
       "      <th>Low</th>\n",
       "      <th>Close</th>\n",
       "      <th>Adj Close</th>\n",
       "      <th>Volume</th>\n",
       "    </tr>\n",
       "  </thead>\n",
       "  <tbody>\n",
       "    <tr>\n",
       "      <th>0</th>\n",
       "      <td>2010-06-29</td>\n",
       "      <td>3.800</td>\n",
       "      <td>5.000</td>\n",
       "      <td>3.508</td>\n",
       "      <td>4.778</td>\n",
       "      <td>4.778</td>\n",
       "      <td>93831500</td>\n",
       "    </tr>\n",
       "    <tr>\n",
       "      <th>1</th>\n",
       "      <td>2010-06-30</td>\n",
       "      <td>5.158</td>\n",
       "      <td>6.084</td>\n",
       "      <td>4.660</td>\n",
       "      <td>4.766</td>\n",
       "      <td>4.766</td>\n",
       "      <td>85935500</td>\n",
       "    </tr>\n",
       "    <tr>\n",
       "      <th>2</th>\n",
       "      <td>2010-07-01</td>\n",
       "      <td>5.000</td>\n",
       "      <td>5.184</td>\n",
       "      <td>4.054</td>\n",
       "      <td>4.392</td>\n",
       "      <td>4.392</td>\n",
       "      <td>41094000</td>\n",
       "    </tr>\n",
       "    <tr>\n",
       "      <th>3</th>\n",
       "      <td>2010-07-02</td>\n",
       "      <td>4.600</td>\n",
       "      <td>4.620</td>\n",
       "      <td>3.742</td>\n",
       "      <td>3.840</td>\n",
       "      <td>3.840</td>\n",
       "      <td>25699000</td>\n",
       "    </tr>\n",
       "    <tr>\n",
       "      <th>4</th>\n",
       "      <td>2010-07-06</td>\n",
       "      <td>4.000</td>\n",
       "      <td>4.000</td>\n",
       "      <td>3.166</td>\n",
       "      <td>3.222</td>\n",
       "      <td>3.222</td>\n",
       "      <td>34334500</td>\n",
       "    </tr>\n",
       "  </tbody>\n",
       "</table>\n",
       "</div>"
      ],
      "text/plain": [
       "        Date   Open   High    Low  Close  Adj Close    Volume\n",
       "0 2010-06-29  3.800  5.000  3.508  4.778      4.778  93831500\n",
       "1 2010-06-30  5.158  6.084  4.660  4.766      4.766  85935500\n",
       "2 2010-07-01  5.000  5.184  4.054  4.392      4.392  41094000\n",
       "3 2010-07-02  4.600  4.620  3.742  3.840      3.840  25699000\n",
       "4 2010-07-06  4.000  4.000  3.166  3.222      3.222  34334500"
      ]
     },
     "execution_count": 59,
     "metadata": {},
     "output_type": "execute_result"
    }
   ],
   "source": [
    "# The following code does four things:\n",
    "# 1) download Tesla stock data\n",
    "# 2) turn it inta a Pandas DataFrame\n",
    "# 3) Reset the indext so the date value becomes a regular column\n",
    "# 4) show the first 5 rows\n",
    "\n",
    "TICK = yf.download('TSLA')\n",
    "TICK = pd.DataFrame(TICK)\n",
    "TICK.reset_index(inplace=True)\n",
    "TICK.head()"
   ]
  },
  {
   "cell_type": "code",
   "execution_count": 64,
   "id": "equal-cause",
   "metadata": {},
   "outputs": [
    {
     "data": {
      "image/png": "[encoded data removed]",
      "text/plain": [
       "<Figure size 432x288 with 1 Axes>"
      ]
     },
     "metadata": {
      "needs_background": "light"
     },
     "output_type": "display_data"
    },
    {
     "data": {
      "image/png": "[encoded data removed]",
      "text/plain": [
       "<Figure size 432x288 with 1 Axes>"
      ]
     },
     "metadata": {
      "needs_background": "light"
     },
     "output_type": "display_data"
    }
   ],
   "source": [
    "#  Plotting date vs the close market stock price\n",
    "TICK.plot(\"Date\",'Close',color=\"red\")\n",
    "\n",
    "# Extract only top 60 rows to make the plot a little clearer\n",
    "TICK_small = TICK.tail(60)\n",
    "\n",
    "#  Plotting date vs the close  market stock price\n",
    "TICK_small.plot('Date','Close',color=\"green\")\n",
    "\n",
    "plt.show()"
   ]
  },
  {
   "cell_type": "code",
   "execution_count": 66,
   "id": "casual-operations",
   "metadata": {},
   "outputs": [],
   "source": [
    "# 1. Filter out the closing market price data\n",
    "close_data = TICK.filter(['Close'])\n",
    "\n",
    "# 2. Convert the data into array for easy evaluation\n",
    "dataset = close_data.values\n",
    "\n",
    "# 3. Scale/Normalize the data to make all values between 0 and 1\n",
    "scaler = MinMaxScaler(feature_range=(0, 1))\n",
    "scaled_data = scaler.fit_transform(dataset)\n",
    "\n",
    "# 4. Creating training data size : 70% of the data\n",
    "training_data_len = math.ceil(len(dataset) *.7)\n",
    "train_data = scaled_data[0:training_data_len  , : ]\n",
    "\n",
    "# 5. Separating the data into x and y data\n",
    "x_train_data=[]\n",
    "y_train_data =[]\n",
    "for i in range(60,len(train_data)):\n",
    "    x_train_data=list(x_train_data)\n",
    "    y_train_data=list(y_train_data)\n",
    "    x_train_data.append(train_data[i-60:i,0])\n",
    "    y_train_data.append(train_data[i,0])\n",
    "\n",
    "    # 6. Converting the training x and y values to numpy arrays\n",
    "    x_train_data1, y_train_data1 = np.array(x_train_data), np.array(y_train_data)\n",
    "\n",
    "    # 7. Reshaping training s and y data to make the calculations easier\n",
    "    x_train_data2 = np.reshape(x_train_data1, (x_train_data1.shape[0],x_train_data1.shape[1],1))"
   ]
  },
  {
   "cell_type": "code",
   "execution_count": 67,
   "id": "crazy-birth",
   "metadata": {},
   "outputs": [],
   "source": [
    "model = Sequential()\n",
    "model.add(LSTM(units=50, return_sequences=True,input_shape=(x_train_data2.shape[1],1)))\n",
    "model.add(LSTM(units=50, return_sequences=False))\n",
    "model.add(Dense(units=25))\n",
    "model.add(Dense(units=1))"
   ]
  },
  {
   "cell_type": "code",
   "execution_count": 68,
   "id": "sustainable-horizon",
   "metadata": {},
   "outputs": [
    {
     "name": "stdout",
     "output_type": "stream",
     "text": [
      "1878/1878 [==============================] - 65s 32ms/step - loss: 1.0471e-04\n"
     ]
    },
    {
     "data": {
      "text/plain": [
       "<tensorflow.python.keras.callbacks.History at 0x7f10f8518198>"
      ]
     },
     "execution_count": 68,
     "metadata": {},
     "output_type": "execute_result"
    }
   ],
   "source": [
    "model.compile(optimizer='adam', loss='mean_squared_error')\n",
    "model.fit(x_train_data2, y_train_data1, batch_size=1, epochs=1)"
   ]
  },
  {
   "cell_type": "code",
   "execution_count": 70,
   "id": "individual-poland",
   "metadata": {},
   "outputs": [],
   "source": [
    "# 1. Creating a dataset for testing\n",
    "test_data = scaled_data[training_data_len - 60: , : ]\n",
    "x_test = []\n",
    "y_test =  dataset[training_data_len : , : ]\n",
    "for i in range(60,len(test_data)):\n",
    "    x_test.append(test_data[i-60:i,0])\n",
    "\n",
    "# 2.  Convert the values into arrays for easier computation\n",
    "x_test = np.array(x_test)\n",
    "x_test = np.reshape(x_test, (x_test.shape[0],x_test.shape[1],1))\n",
    "\n",
    "# 3. Making predictions on the testing data\n",
    "predictions = model.predict(x_test)\n",
    "predictions = scaler.inverse_transform(predictions)"
   ]
  },
  {
   "cell_type": "code",
   "execution_count": 71,
   "id": "surrounded-valve",
   "metadata": {},
   "outputs": [
    {
     "name": "stdout",
     "output_type": "stream",
     "text": [
      "89.15547343605859\n"
     ]
    }
   ],
   "source": [
    "rmse = np.sqrt(np.mean(((predictions- y_test)**2)))\n",
    "print(rmse)"
   ]
  },
  {
   "cell_type": "code",
   "execution_count": 81,
   "id": "italian-pharmacology",
   "metadata": {},
   "outputs": [
    {
     "name": "stderr",
     "output_type": "stream",
     "text": [
      "/home/alex/.local/lib/python3.6/site-packages/ipykernel_launcher.py:4: SettingWithCopyWarning: \n",
      "A value is trying to be set on a copy of a slice from a DataFrame.\n",
      "Try using .loc[row_indexer,col_indexer] = value instead\n",
      "\n",
      "See the caveats in the documentation: https://pandas.pydata.org/pandas-docs/stable/user_guide/indexing.html#returning-a-view-versus-a-copy\n",
      "  after removing the cwd from sys.path.\n"
     ]
    },
    {
     "data": {
      "image/png": "[encoded data removed]",
      "text/plain": [
       "<Figure size 432x288 with 1 Axes>"
      ]
     },
     "metadata": {
      "needs_background": "light"
     },
     "output_type": "display_data"
    },
    {
     "data": {
      "text/plain": [
       "<Figure size 720x360 with 0 Axes>"
      ]
     },
     "metadata": {},
     "output_type": "display_data"
    }
   ],
   "source": [
    "train = TICK[:training_data_len]\n",
    "valid = TICK[training_data_len:]\n",
    "\n",
    "valid['Predictions'] = predictions\n",
    "\n",
    "plt.title('Model')\n",
    "plt.xlabel('Date')\n",
    "plt.ylabel('Close')\n",
    "\n",
    "plt.plot(train['Close'])\n",
    "plt.plot(valid[['Close', 'Predictions']])\n",
    "\n",
    "plt.legend(['Train', 'Val', 'Predictions'], loc='lower right')\n",
    "\n",
    "plt.figure(figsize=(10,5))\n",
    "\n",
    "plt.show()"
   ]
  },
  {
   "cell_type": "markdown",
   "id": "shared-nomination",
   "metadata": {},
   "source": [
    "To do:\n",
    "- reduce RSME\n",
    "- improve visualization\n",
    "- make it easier to apply the model to different Stock data\n",
    "- long term: find high potential sotck, or compare stock to eachother"
   ]
  }
 ],
 "metadata": {
  "kernelspec": {
   "display_name": "Python 3",
   "language": "python",
   "name": "python3"
  },
  "language_info": {
   "codemirror_mode": {
    "name": "ipython",
    "version": 3
   },
   "file_extension": ".py",
   "mimetype": "text/x-python",
   "name": "python",
   "nbconvert_exporter": "python",
   "pygments_lexer": "ipython3",
   "version": "3.6.9"
  }
 },
 "nbformat": 4,
 "nbformat_minor": 5
}
