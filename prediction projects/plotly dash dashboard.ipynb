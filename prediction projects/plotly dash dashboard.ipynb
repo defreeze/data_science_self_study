{
 "cells": [
  {
   "cell_type": "markdown",
   "id": "cognitive-culture",
   "metadata": {},
   "source": [
    "## data dashboard testing using plotly dash\n",
    "\n",
    "- https://www.justintodata.com/python-interactive-dashboard-with-plotly-dash-tutorial/\n",
    "- https://data-flair.training/blogs/stock-price-prediction-machine-learning-project-in-python/"
   ]
  },
  {
   "cell_type": "code",
   "execution_count": null,
   "id": "confident-nightmare",
   "metadata": {},
   "outputs": [],
   "source": [
    "#dash applications are better run as one file (jupyter notebooks is not the best > pycharm is better)\n",
    "!pip install jupyter-dash \n",
    "import dash\n",
    "import dash_html_components as html\n",
    "import dash_core_components as dcc\n",
    "from dash.dependencies import Input, Output\n",
    "import pandas as pd\n",
    "import plotly.express as px\n",
    "\n",
    "avocado = pd.read_csv('avocado-updated-2020.csv')"
   ]
  },
  {
   "cell_type": "code",
   "execution_count": null,
   "id": "simplified-market",
   "metadata": {},
   "outputs": [],
   "source": [
    "app = dash.Dash()\n",
    "\n",
    "app.layout = html.Div(children=[\n",
    "    html.H1('Avocado Prices Dashboard', style={\"textAlign\": \"center\"}),\n",
    "    dcc.Dropdown(id='geo-dropdown',\n",
    "                 options=[{'label': i, 'value': i}\n",
    "                          for i in avocado['geography'].unique()],\n",
    "                 value='New York'),\n",
    "    dcc.Graph(id='price-graph')\n",
    "])\n",
    "\n",
    "@app.callback(\n",
    "    Output(component_id='price-graph', component_property='figure'),\n",
    "    Input(component_id='geo-dropdown', component_property='value')\n",
    ")\n",
    "def update_graph(selected_geography):\n",
    "    filtered_avocado = avocado[avocado['geography'] == selected_geography]\n",
    "    line_fig = px.line(filtered_avocado,\n",
    "                       x='date', y='average_price',\n",
    "                       color='type',\n",
    "                       title=f'Avocado Prices in {selected_geography}')\n",
    "    return line_fig\n",
    "\n",
    "   \n",
    "if __name__ == '__main__':\n",
    "    app.run_server(debug=True, use_reloader=False) "
   ]
  },
  {
   "cell_type": "code",
   "execution_count": null,
   "id": "opponent-infrastructure",
   "metadata": {},
   "outputs": [],
   "source": []
  }
 ],
 "metadata": {
  "kernelspec": {
   "display_name": "Python 3",
   "language": "python",
   "name": "python3"
  },
  "language_info": {
   "codemirror_mode": {
    "name": "ipython",
    "version": 3
   },
   "file_extension": ".py",
   "mimetype": "text/x-python",
   "name": "python",
   "nbconvert_exporter": "python",
   "pygments_lexer": "ipython3",
   "version": "3.6.9"
  }
 },
 "nbformat": 4,
 "nbformat_minor": 5
}
