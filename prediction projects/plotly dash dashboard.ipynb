{
 "cells": [
  {
   "cell_type": "markdown",
   "id": "cognitive-culture",
   "metadata": {},
   "source": [
    "## data dashboard testing using plotly dash\n",
    "\n",
    "- https://www.justintodata.com/python-interactive-dashboard-with-plotly-dash-tutorial/\n",
    "- https://data-flair.training/blogs/stock-price-prediction-machine-learning-project-in-python/\n",
    "- https://www.geeksforgeeks.org/introduction-to-dash-in-python/\n",
    "- https://dash.plotly.com/basic-callbacks"
   ]
  },
  {
   "cell_type": "code",
   "execution_count": 1,
   "id": "confident-nightmare",
   "metadata": {},
   "outputs": [
    {
     "name": "stdout",
     "output_type": "stream",
     "text": [
      "Defaulting to user installation because normal site-packages is not writeable\n",
      "Requirement already satisfied: jupyter-dash in /home/alex/.local/lib/python3.6/site-packages (0.4.0)\n",
      "Requirement already satisfied: ipykernel in /home/alex/.local/lib/python3.6/site-packages (from jupyter-dash) (5.5.0)\n",
      "Requirement already satisfied: dash in /home/alex/.local/lib/python3.6/site-packages (from jupyter-dash) (1.20.0)\n",
      "Requirement already satisfied: ansi2html in /home/alex/.local/lib/python3.6/site-packages (from jupyter-dash) (1.6.0)\n",
      "Requirement already satisfied: flask in /home/alex/.local/lib/python3.6/site-packages (from jupyter-dash) (2.0.1)\n",
      "Requirement already satisfied: retrying in /home/alex/.local/lib/python3.6/site-packages (from jupyter-dash) (1.3.3)\n",
      "Requirement already satisfied: requests in /home/alex/.local/lib/python3.6/site-packages (from jupyter-dash) (2.25.1)\n",
      "Requirement already satisfied: ipython in /home/alex/.local/lib/python3.6/site-packages (from jupyter-dash) (7.16.1)\n",
      "Requirement already satisfied: plotly in /home/alex/.local/lib/python3.6/site-packages (from dash->jupyter-dash) (4.14.3)\n",
      "Requirement already satisfied: dash-table==4.11.3 in /home/alex/.local/lib/python3.6/site-packages (from dash->jupyter-dash) (4.11.3)\n",
      "Requirement already satisfied: dash-html-components==1.1.3 in /home/alex/.local/lib/python3.6/site-packages (from dash->jupyter-dash) (1.1.3)\n",
      "Requirement already satisfied: future in /home/alex/.local/lib/python3.6/site-packages (from dash->jupyter-dash) (0.18.2)\n",
      "Requirement already satisfied: dash-core-components==1.16.0 in /home/alex/.local/lib/python3.6/site-packages (from dash->jupyter-dash) (1.16.0)\n",
      "Requirement already satisfied: flask-compress in /home/alex/.local/lib/python3.6/site-packages (from dash->jupyter-dash) (1.10.1)\n",
      "Requirement already satisfied: dash-renderer==1.9.1 in /home/alex/.local/lib/python3.6/site-packages (from dash->jupyter-dash) (1.9.1)\n",
      "Requirement already satisfied: Jinja2>=3.0 in /home/alex/.local/lib/python3.6/site-packages (from flask->jupyter-dash) (3.0.1)\n",
      "Requirement already satisfied: Werkzeug>=2.0 in /home/alex/.local/lib/python3.6/site-packages (from flask->jupyter-dash) (2.0.1)\n",
      "Requirement already satisfied: itsdangerous>=2.0 in /home/alex/.local/lib/python3.6/site-packages (from flask->jupyter-dash) (2.0.1)\n",
      "Requirement already satisfied: click>=7.1.2 in /home/alex/.local/lib/python3.6/site-packages (from flask->jupyter-dash) (8.0.1)\n",
      "Requirement already satisfied: importlib-metadata in /home/alex/.local/lib/python3.6/site-packages (from click>=7.1.2->flask->jupyter-dash) (3.7.3)\n",
      "Requirement already satisfied: MarkupSafe>=2.0 in /home/alex/.local/lib/python3.6/site-packages (from Jinja2>=3.0->flask->jupyter-dash) (2.0.1)\n",
      "Requirement already satisfied: dataclasses in /home/alex/.local/lib/python3.6/site-packages (from Werkzeug>=2.0->flask->jupyter-dash) (0.8)\n",
      "Requirement already satisfied: brotli in /home/alex/.local/lib/python3.6/site-packages (from flask-compress->dash->jupyter-dash) (1.0.9)\n",
      "Requirement already satisfied: zipp>=0.5 in /home/alex/.local/lib/python3.6/site-packages (from importlib-metadata->click>=7.1.2->flask->jupyter-dash) (3.4.1)\n",
      "Requirement already satisfied: typing-extensions>=3.6.4 in /home/alex/.local/lib/python3.6/site-packages (from importlib-metadata->click>=7.1.2->flask->jupyter-dash) (3.7.4.3)\n",
      "Requirement already satisfied: tornado>=4.2 in /home/alex/.local/lib/python3.6/site-packages (from ipykernel->jupyter-dash) (6.1)\n",
      "Requirement already satisfied: traitlets>=4.1.0 in /home/alex/.local/lib/python3.6/site-packages (from ipykernel->jupyter-dash) (4.3.3)\n",
      "Requirement already satisfied: jupyter-client in /home/alex/.local/lib/python3.6/site-packages (from ipykernel->jupyter-dash) (6.1.12)\n",
      "Requirement already satisfied: decorator in /home/alex/.local/lib/python3.6/site-packages (from ipython->jupyter-dash) (4.4.2)\n",
      "Requirement already satisfied: jedi>=0.10 in /home/alex/.local/lib/python3.6/site-packages (from ipython->jupyter-dash) (0.18.0)\n",
      "Requirement already satisfied: pickleshare in /home/alex/.local/lib/python3.6/site-packages (from ipython->jupyter-dash) (0.7.5)\n",
      "Requirement already satisfied: prompt-toolkit!=3.0.0,!=3.0.1,<3.1.0,>=2.0.0 in /home/alex/.local/lib/python3.6/site-packages (from ipython->jupyter-dash) (3.0.17)\n",
      "Requirement already satisfied: backcall in /home/alex/.local/lib/python3.6/site-packages (from ipython->jupyter-dash) (0.2.0)\n",
      "Requirement already satisfied: pexpect in /usr/lib/python3/dist-packages (from ipython->jupyter-dash) (4.2.1)\n",
      "Requirement already satisfied: setuptools>=18.5 in /usr/local/lib/python3.6/dist-packages (from ipython->jupyter-dash) (54.1.2)\n",
      "Requirement already satisfied: pygments in /home/alex/.local/lib/python3.6/site-packages (from ipython->jupyter-dash) (2.8.1)\n",
      "Requirement already satisfied: parso<0.9.0,>=0.8.0 in /home/alex/.local/lib/python3.6/site-packages (from jedi>=0.10->ipython->jupyter-dash) (0.8.1)\n",
      "Requirement already satisfied: wcwidth in /home/alex/.local/lib/python3.6/site-packages (from prompt-toolkit!=3.0.0,!=3.0.1,<3.1.0,>=2.0.0->ipython->jupyter-dash) (0.2.5)\n",
      "Requirement already satisfied: ipython-genutils in /home/alex/.local/lib/python3.6/site-packages (from traitlets>=4.1.0->ipykernel->jupyter-dash) (0.2.0)\n",
      "Requirement already satisfied: six in /home/alex/.local/lib/python3.6/site-packages (from traitlets>=4.1.0->ipykernel->jupyter-dash) (1.15.0)\n",
      "Requirement already satisfied: pyzmq>=13 in /home/alex/.local/lib/python3.6/site-packages (from jupyter-client->ipykernel->jupyter-dash) (22.0.3)\n",
      "Requirement already satisfied: python-dateutil>=2.1 in /home/alex/.local/lib/python3.6/site-packages (from jupyter-client->ipykernel->jupyter-dash) (2.8.1)\n",
      "Requirement already satisfied: jupyter-core>=4.6.0 in /home/alex/.local/lib/python3.6/site-packages (from jupyter-client->ipykernel->jupyter-dash) (4.7.1)\n",
      "Requirement already satisfied: idna<3,>=2.5 in /home/alex/.local/lib/python3.6/site-packages (from requests->jupyter-dash) (2.10)\n",
      "Requirement already satisfied: certifi>=2017.4.17 in /usr/lib/python3/dist-packages (from requests->jupyter-dash) (2018.1.18)\n",
      "Requirement already satisfied: chardet<5,>=3.0.2 in /usr/lib/python3/dist-packages (from requests->jupyter-dash) (3.0.4)\n",
      "Requirement already satisfied: urllib3<1.27,>=1.21.1 in /usr/lib/python3/dist-packages (from requests->jupyter-dash) (1.22)\n"
     ]
    }
   ],
   "source": [
    "#dash applications are better run as one file (jupyter notebooks is not the best > pycharm is better)\n",
    "!pip install jupyter-dash \n",
    "import dash\n",
    "import dash_html_components as html\n",
    "import dash_core_components as dcc\n",
    "from dash.dependencies import Input, Output\n",
    "import pandas as pd\n",
    "import plotly.express as px\n",
    "\n",
    "import yfinance as yf"
   ]
  },
  {
   "cell_type": "code",
   "execution_count": null,
   "id": "simplified-market",
   "metadata": {},
   "outputs": [],
   "source": [
    "# example dashboard\n",
    "avocado = pd.read_csv('avocado-updated-2020.csv')\n",
    "\n",
    "app = dash.Dash()\n",
    "\n",
    "app.layout = html.Div(children=[\n",
    "    html.H1('Avocado Prices Dashboard', style={\"textAlign\": \"center\"}),\n",
    "    dcc.Dropdown(id='geo-dropdown',\n",
    "                 options=[{'label': i, 'value': i}\n",
    "                          for i in avocado['geography'].unique()],\n",
    "                 value='New York'),\n",
    "    dcc.Graph(id='price-graph')\n",
    "])\n",
    "\n",
    "@app.callback(\n",
    "    Output(component_id='price-graph', component_property='figure'),\n",
    "    Input(component_id='geo-dropdown', component_property='value')\n",
    ")\n",
    "def update_graph(selected_geography):\n",
    "    filtered_avocado = avocado[avocado['geography'] == selected_geography]\n",
    "    line_fig = px.line(filtered_avocado,\n",
    "                       x='date', y='average_price',\n",
    "                       #color='type',\n",
    "                       title=f'Avocado Prices in {selected_geography}')\n",
    "    return line_fig\n",
    "\n",
    "   \n",
    "if __name__ == '__main__':\n",
    "    app.run_server(debug=True, use_reloader=False) "
   ]
  },
  {
   "cell_type": "code",
   "execution_count": null,
   "id": "improving-democrat",
   "metadata": {},
   "outputs": [
    {
     "name": "stdout",
     "output_type": "stream",
     "text": [
      "Dash is running on http://127.0.0.1:8050/\n",
      "\n",
      " * Serving Flask app '__main__' (lazy loading)\n",
      " * Environment: production\n",
      "\u001b[31m   WARNING: This is a development server. Do not use it in a production deployment.\u001b[0m\n",
      "\u001b[2m   Use a production WSGI server instead.\u001b[0m\n",
      " * Debug mode: on\n",
      "[*********************100%***********************]  1 of 1 completed\n"
     ]
    }
   ],
   "source": [
    "# basic test with input text\n",
    "app = dash.Dash() \n",
    "app.layout = html.Div(children =[\n",
    "    html.H4(\"Fill in a stock name below\"),\n",
    "    dcc.Input(id ='input', \n",
    "              value ='TSLA', \n",
    "              type ='text'),\n",
    "    html.Div(id ='output'),\n",
    "    dcc.Graph(id='stock-graph')\n",
    "])\n",
    "\n",
    "@app.callback(\n",
    "    Output(component_id ='output', component_property ='children'),\n",
    "    [Input(component_id ='input', component_property ='value')]\n",
    ")\n",
    "  \n",
    "def update_value(stock_name):\n",
    "    \n",
    "    try:   \n",
    "       \n",
    "        return('Output: {}'. format(stock_name))\n",
    "    except:\n",
    "        return \"Error\"\n",
    "\n",
    "@app.callback(\n",
    "    Output(component_id='stock-graph', component_property='figure'),\n",
    "    Input(component_id='input', component_property='value')\n",
    ")\n",
    "def update_graph(stock_id):\n",
    "    \n",
    "    TICK = yf.download(stock_id)\n",
    "    TICK = pd.DataFrame(TICK)\n",
    "    TICK.reset_index(inplace=True)\n",
    "    line_fig = px.line(TICK,\n",
    "                       x='Date', y='Close',\n",
    "                       #color='type',\n",
    "                       title=f'Stock Prices for {stock_id}')\n",
    "    return line_fig    \n",
    "    \n",
    "    \n",
    "if __name__ == '__main__':\n",
    "   app.run_server(debug=True, use_reloader=False) \n",
    "\n",
    "\n",
    "# error is 'webGL is not supported by your browser'\n",
    "# it is suported, thus check with different browsers and add hardware acceleration\n"
   ]
  },
  {
   "cell_type": "code",
   "execution_count": 2,
   "id": "flush-lounge",
   "metadata": {},
   "outputs": [
    {
     "name": "stdout",
     "output_type": "stream",
     "text": [
      "Enter a stock price name (such as TSLA, AAPL): TSLA\n",
      "[*********************100%***********************]  1 of 1 completed\n"
     ]
    }
   ],
   "source": [
    "stock_name = input(\"Enter a stock price name (such as TSLA, AAPL): \")\n",
    "TICK = yf.download(stock_name)\n",
    "TICK = pd.DataFrame(TICK)\n",
    "TICK.reset_index(inplace=True)"
   ]
  },
  {
   "cell_type": "code",
   "execution_count": null,
   "id": "opponent-infrastructure",
   "metadata": {},
   "outputs": [
    {
     "name": "stdout",
     "output_type": "stream",
     "text": [
      "Dash is running on http://127.0.0.1:8050/\n",
      "\n",
      " * Serving Flask app '__main__' (lazy loading)\n",
      " * Environment: production\n",
      "\u001b[31m   WARNING: This is a development server. Do not use it in a production deployment.\u001b[0m\n",
      "\u001b[2m   Use a production WSGI server instead.\u001b[0m\n",
      " * Debug mode: on\n"
     ]
    }
   ],
   "source": [
    "# Dashboard for stock data\n",
    "\n",
    "app = dash.Dash()\n",
    "\n",
    "app.layout = html.Div(children=[\n",
    "    html.H1('Stock Prices Dashboard', style={\"textAlign\": \"center\"}),\n",
    "    dcc.Dropdown(id='geo-dropdown', value= stock_name),\n",
    "    dcc.Graph(id='price-graph')\n",
    "])\n",
    "\n",
    "@app.callback(\n",
    "    Output(component_id='price-graph', component_property='figure'),\n",
    "    Input(component_id='geo-dropdown', component_property='value')\n",
    ")\n",
    "def update_graph(selected_geography):\n",
    "    line_fig = px.line(TICK,\n",
    "                       x='Date', y='Close',\n",
    "                       color='Close',\n",
    "                       title=f'Stock Prices in {stock_name}')\n",
    "    return line_fig\n",
    "\n",
    "   \n",
    "if __name__ == '__main__':\n",
    "    app.run_server(debug=True, use_reloader=False)\n",
    "\n"
   ]
  }
 ],
 "metadata": {
  "kernelspec": {
   "display_name": "Python 3",
   "language": "python",
   "name": "python3"
  },
  "language_info": {
   "codemirror_mode": {
    "name": "ipython",
    "version": 3
   },
   "file_extension": ".py",
   "mimetype": "text/x-python",
   "name": "python",
   "nbconvert_exporter": "python",
   "pygments_lexer": "ipython3",
   "version": "3.6.9"
  }
 },
 "nbformat": 4,
 "nbformat_minor": 5
}
