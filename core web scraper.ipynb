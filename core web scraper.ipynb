{
 "cells": [
  {
   "cell_type": "code",
   "execution_count": 138,
   "id": "65cc9761",
   "metadata": {},
   "outputs": [],
   "source": [
    "# basic web scraper\n",
    "import requests\n",
    "from bs4 import BeautifulSoup as bs\n",
    "import numpy as np"
   ]
  },
  {
   "cell_type": "code",
   "execution_count": 139,
   "id": "91696061",
   "metadata": {},
   "outputs": [
    {
     "name": "stderr",
     "output_type": "stream",
     "text": [
      "2022-12-11 15:33:13 [urllib3.connectionpool] DEBUG: Starting new HTTPS connection (1): www.cimsolutions.nl:443\n",
      "2022-12-11 15:33:13 [urllib3.connectionpool] DEBUG: https://www.cimsolutions.nl:443 \"GET /over-ons/ HTTP/1.1\" 200 None\n"
     ]
    },
    {
     "name": "stdout",
     "output_type": "stream",
     "text": [
      "Organisatie | CIMSOLUTIONS Ga naar inhoud Learn, Create and Make It Work Over Ons Organisatie Missie & Kernwaarden Meerwaarde Historie Nieuws Dienstverlening Diensten Expertises Marktsectoren Referenties Werken Bij Vactures Vactures Waarom CIMSOLUTIONS? Carrière als Professional Carrière als Young Professional Afstuderen bij CIMSOLUTIONS Medewerkers aan het woord Open sollicitatie Open sollicitatie Leverancier / ZZP Werken Voor CIMSOLUTIONS Meld je aan Wet DBA Contact & Locaties Search Zoeken Zoeken … Search Zoeken Zoeken … Zoeken Zoeken … Menu Over Ons Organisatie Missie & Kernwaarden Meerwaarde Historie Nieuws Dienstverlening Diensten Expertises Marktsectoren Referenties Werken Bij Vactures Vactures Waarom CIMSOLUTIONS? Carrière als Professional Carrière als Young Professional Afstuderen bij CIMSOLUTIONS Medewerkers aan het woord Open sollicitatie Open sollicitatie Leverancier / ZZP Werken Voor CIMSOLUTIONS Meld je aan Wet DBA Contact & Locaties Home » Organisatie Organisatie Organisatie CIMSOLUTIONS levert al 30 jaar hoogwaardige en professionele ICT consultancy diensten en softwareontwikkeling oplossingen aan de top 500 grootste bedrijven van Nederland. Onze expertise dekt alle fasen van de software levenscyclus: Specificatie en haalbaarheid Ontwerp, ontwikkeling, test en implementatie Onderhoud, beheer en projectmanagement van zowel maatwerk- als standaardapplicaties, systemen, hardware en netwerken. Wij passen state-of-the-art ICT concepten en technieken toe, waardoor we altijd de optimale oplossing bieden voor onze klanten. Niet voor niets is onze slogan Learn, create and make it work! Met onze uitstekende track-record en een hoge klanttevredenheid bij onze gerenommeerde klanten, is CIMSOLUTIONS uw ideale partner. “Waarom is CIMSOLUTIONS ondanks alle veranderingen, recessies en uitdagingen succesvol geweest en gebleven? Wat is het geheim van ons succes? Er is altijd één ding constant gebleven en niet veranderd: de kwaliteit en de professionaliteit van onze mensen. De passie voor het beroep en de klantgerichtheid, waarmee ze dagelijks de klant helpen om beter en succesvoller te worden, en daarmee onze missie en kernwaarden uitdragen, verdient een pluim.” Moynul Hassain CEO CIMSOLUTIONS Sinds de oprichting in Nederland in 1992 is CIMSOLUTIONS B.V. autonoom doorgegroeid naar een klantgerichte internationale onderneming met vestigingen in Nederland en Bangladesh. Vanuit de zes Nederlandse vestigingen in Amsterdam, Best, Deventer, Groningen, Rotterdam en Vianen bedienen we onze klanten in alle regio’s van Nederland. Voor offshore dienstverlening, softwareontwikkeling, applicatiebeheer en testen hebben wij een eigen vestiging in Dhaka (Bangladesh). Bij CIMSOLUTIONS werken 300 hoogopgeleide ICT professionals, met minimaal een HBO- of Universitair diploma. Zij adviseren en ondersteunen klanten op het gebied van onder andere bestuurlijke, zakelijke en administratieve automatisering, R&D, embedded ontwikkeling, technische en industriële automatisering. Onze organisatiecultuur is samen te vatten met de termen: klantgericht, toegankelijk, snel, flexibel, op leren ingesteld en no nonsense. MEER OVER ONZE DIENSTVERLENING Top Employer CIMSOLUTONS is maar liefst vijftien keer uitgeroepen tot Top Employer Nederland door het onafhankelijke Top Employers Institute. CIMSOLUTIONS vindt een goed en vooral innovatief HR beleid belangrijk om zowel onze bestaande als nieuwe medewerkers blijvend uitdaging te kunnen bieden. De deelname aan het Top Employer onderzoek geeft ons een gedegen beeld van de markt en houdt ons scherp om ons nog verder te ontwikkelen en verbeteren. MEER OVER WERKEN BIJ CIMSOLUTIONS Benieuwd naar onze vacatures? Wij zijn altijd op zoek naar gedreven professionals NAAR VACTURES NAAR VACTURES Geïnteresseerd? Wij horen graag van je! Neem contact met ons op. NAAR CONTACT Goedendag, ik ben Chatbot Susan. Kan ik u ergens mee helpen? Chatbot Susan Nederlands Engels Nieuws | Copyright | Disclaimer | Privacy Statement © 2022 CIMSOLUTIONS – Alle rechten voorbehouden Aangeboden door WP – Ontworpen met de Customizr thema We gebruiken cookies om u de beste ervaring op onze website te geven. U kunt meer informatie vinden over welke cookies we gebruiken of deze uitschakelen in settings . Aanvaarden Afwijzen Cookie-instellingen wijzigen Sluit GDPR (AVG) cookie instellingen Privacyoverzicht Strikt noodzakelijke cookies Aangedreven door GDPR Cookie Compliance Privacyoverzicht Deze website maakt gebruik van cookies zodat we u de best mogelijke gebruikerservaring kunnen bieden. Cookie-informatie wordt opgeslagen in uw browser en voert functies uit zoals u herkennen wanneer u terugkeert naar onze website en ons team helpen te begrijpen welke delen van de website u het meest interessant en nuttig vindt. Strikt noodzakelijke cookies Strikt noodzakelijke cookies moeten te allen tijde zijn ingeschakeld, zodat we uw voorkeuren voor cookie-instellingen kunnen opslaan. In/Uit- schakelen cookies Als u deze cookie uitschakelt, kunnen we uw voorkeuren niet opslaan. Dit betekent dat u bij elk bezoek aan deze website cookies opnieuw moet in- of uitschakelen. Schakel alles in Alles afwijzen Wijzigingen opslaan\n"
     ]
    }
   ],
   "source": [
    "#get text from one url\n",
    "URL = 'https://www.cimsolutions.nl/over-ons/'\n",
    "page = requests.get(URL)\n",
    "\n",
    "def remove_tags(html):\n",
    "    # parse html content\n",
    "    soup = bs(html, \"html.parser\")\n",
    "  \n",
    "    for data in soup(['style', 'script']):\n",
    "        # Remove tags\n",
    "        data.decompose()\n",
    "  \n",
    "    # return data by retrieving the tag content\n",
    "    return ' '.join(soup.stripped_strings)\n",
    "  \n",
    "print(remove_tags(page.content))"
   ]
  },
  {
   "cell_type": "code",
   "execution_count": 140,
   "id": "fb06032b",
   "metadata": {},
   "outputs": [],
   "source": [
    "#get all cimsolutions URLS\n",
    "soup = bs(page.text, 'html.parser')\n",
    "urls = []\n",
    "store = 0\n",
    "\n",
    "for link in soup.find_all('a'):\n",
    "    urls.insert(store, link.get('href'))\n",
    "    store += 1\n",
    "urls = np.array(urls)\n"
   ]
  },
  {
   "cell_type": "code",
   "execution_count": 141,
   "id": "6841211d",
   "metadata": {},
   "outputs": [
    {
     "name": "stdout",
     "output_type": "stream",
     "text": [
      "['#content' 'https://www.cimsolutions.nl/'\n",
      " 'https://www.cimsolutions.nl/over-ons/'\n",
      " 'https://www.cimsolutions.nl/over-ons/'\n",
      " 'https://www.cimsolutions.nl/over-ons/missie-kernwaarden/'\n",
      " 'https://www.cimsolutions.nl/over-ons/meerwaarde/'\n",
      " 'https://www.cimsolutions.nl/over-ons/historie/'\n",
      " 'https://www.cimsolutions.nl/over-ons/nieuws/'\n",
      " 'https://www.cimsolutions.nl/dienstverlening/'\n",
      " 'https://www.cimsolutions.nl/dienstverlening/diensten/'\n",
      " 'https://www.cimsolutions.nl/dienstverlening/expertises/'\n",
      " 'https://www.cimsolutions.nl/dienstverlening/marktsectoren/'\n",
      " 'https://www.cimsolutions.nl/dienstverlening/referenties/'\n",
      " 'https://www.cimsolutions.nl/werken-bij/'\n",
      " 'https://vacature.cimsolutions.nl/index.php/page/advsearchvacs/bb/1/command/dispresults/CurrentLanguage/1'\n",
      " 'https://vacature.cimsolutions.nl/index.php/page/advsearchvacs/bb/1/command/dispresults/CurrentLanguage/3'\n",
      " 'https://www.cimsolutions.nl/werken-bij/waarom-cimsolutions/'\n",
      " 'https://www.cimsolutions.nl/werken-bij/professionals/'\n",
      " 'https://www.cimsolutions.nl/werken-bij/young-professionals/'\n",
      " 'https://www.cimsolutions.nl/werken-bij/afstuderen-bij-cimsolutions/'\n",
      " 'https://www.cimsolutions.nl/werken-bij/blogs/'\n",
      " 'https://vacature.cimsolutions.nl/index.php/page/applicants/CurrentLanguage/1'\n",
      " 'https://vacature.cimsolutions.nl/index.php/page/applicants/CurrentLanguage/3'\n",
      " 'https://www.cimsolutions.nl/leverancier-zzp/'\n",
      " 'https://www.cimsolutions.nl/leverancier-zzp/werken-voor-cimsolutions/'\n",
      " 'https://www.cimsolutions.nl/leverancier-zzp/meld-je-aan/'\n",
      " 'https://www.cimsolutions.nl/leverancier-zzp/wet-dba/'\n",
      " 'https://www.cimsolutions.nl/contact-locaties/' '#' '#' '#'\n",
      " 'https://www.cimsolutions.nl/' '#'\n",
      " 'https://www.cimsolutions.nl/over-ons/'\n",
      " 'https://www.cimsolutions.nl/over-ons/'\n",
      " 'https://www.cimsolutions.nl/over-ons/missie-kernwaarden/'\n",
      " 'https://www.cimsolutions.nl/over-ons/meerwaarde/'\n",
      " 'https://www.cimsolutions.nl/over-ons/historie/'\n",
      " 'https://www.cimsolutions.nl/over-ons/nieuws/'\n",
      " 'https://www.cimsolutions.nl/dienstverlening/'\n",
      " 'https://www.cimsolutions.nl/dienstverlening/diensten/'\n",
      " 'https://www.cimsolutions.nl/dienstverlening/expertises/'\n",
      " 'https://www.cimsolutions.nl/dienstverlening/marktsectoren/'\n",
      " 'https://www.cimsolutions.nl/dienstverlening/referenties/'\n",
      " 'https://www.cimsolutions.nl/werken-bij/'\n",
      " 'https://vacature.cimsolutions.nl/index.php/page/advsearchvacs/bb/1/command/dispresults/CurrentLanguage/1'\n",
      " 'https://vacature.cimsolutions.nl/index.php/page/advsearchvacs/bb/1/command/dispresults/CurrentLanguage/3'\n",
      " 'https://www.cimsolutions.nl/werken-bij/waarom-cimsolutions/'\n",
      " 'https://www.cimsolutions.nl/werken-bij/professionals/'\n",
      " 'https://www.cimsolutions.nl/werken-bij/young-professionals/'\n",
      " 'https://www.cimsolutions.nl/werken-bij/afstuderen-bij-cimsolutions/'\n",
      " 'https://www.cimsolutions.nl/werken-bij/blogs/'\n",
      " 'https://vacature.cimsolutions.nl/index.php/page/applicants/CurrentLanguage/1'\n",
      " 'https://vacature.cimsolutions.nl/index.php/page/applicants/CurrentLanguage/3'\n",
      " 'https://www.cimsolutions.nl/leverancier-zzp/'\n",
      " 'https://www.cimsolutions.nl/leverancier-zzp/werken-voor-cimsolutions/'\n",
      " 'https://www.cimsolutions.nl/leverancier-zzp/meld-je-aan/'\n",
      " 'https://www.cimsolutions.nl/leverancier-zzp/wet-dba/'\n",
      " 'https://www.cimsolutions.nl/contact-locaties/'\n",
      " 'https://www.cimsolutions.nl'\n",
      " 'https://www.cimsolutions.nl/dienstverlening/'\n",
      " 'https://www.cimsolutions.nl/werken-bij/'\n",
      " 'https://vacature.cimsolutions.nl/index.php/page/advsearchvacs/bb/1/command/dispresults/CurrentLanguage/1'\n",
      " 'https://vacature.cimsolutions.nl/index.php/page/advsearchvacs/bb/1/command/dispresults/CurrentLanguage/3'\n",
      " 'https://www.cimsolutions.nl/contact-locaties/' None\n",
      " 'https://www.cimsolutions.nl/over-ons/nieuws/'\n",
      " 'https://www.cimsolutions.nl/copyright/'\n",
      " 'https://www.cimsolutions.nl/disclaimer/'\n",
      " 'https://www.cimsolutions.nl/privacy-statement-cimsolutions/' '#' '#'\n",
      " 'https://www.cimsolutions.nl' 'https://wordpress.org/'\n",
      " 'https://presscustomizr.com/customizr'\n",
      " 'https://www.cimsolutions.nl/feed/rss/'\n",
      " 'https://www.facebook.com/CIMSOLUTIONSvestigingen'\n",
      " 'https://twitter.com/CIM_SOLUTIONSBV'\n",
      " 'https://www.instagram.com/cimsolutions/?hl=nl'\n",
      " 'https://www.linkedin.com/company/cimsolutions'\n",
      " 'https://wordpress.org/plugins/gdpr-cookie-compliance/']\n"
     ]
    }
   ],
   "source": [
    "print(urls)"
   ]
  },
  {
   "cell_type": "code",
   "execution_count": 148,
   "id": "40b93c96",
   "metadata": {},
   "outputs": [
    {
     "ename": "AttributeError",
     "evalue": "'NoneType' object has no attribute 'startswith'",
     "output_type": "error",
     "traceback": [
      "\u001b[1;31m---------------------------------------------------------------------------\u001b[0m",
      "\u001b[1;31mAttributeError\u001b[0m                            Traceback (most recent call last)",
      "\u001b[1;32m~\\AppData\\Local\\Temp\\ipykernel_7776\\421237941.py\u001b[0m in \u001b[0;36m<module>\u001b[1;34m\u001b[0m\n\u001b[0;32m      3\u001b[0m \u001b[0mstore\u001b[0m \u001b[1;33m=\u001b[0m \u001b[1;36m1\u001b[0m\u001b[1;33m\u001b[0m\u001b[1;33m\u001b[0m\u001b[0m\n\u001b[0;32m      4\u001b[0m \u001b[1;32mfor\u001b[0m \u001b[0mlink\u001b[0m \u001b[1;32min\u001b[0m \u001b[0murls\u001b[0m\u001b[1;33m:\u001b[0m\u001b[1;33m\u001b[0m\u001b[1;33m\u001b[0m\u001b[0m\n\u001b[1;32m----> 5\u001b[1;33m     \u001b[1;32mif\u001b[0m \u001b[0mlink\u001b[0m\u001b[1;33m.\u001b[0m\u001b[0mstartswith\u001b[0m\u001b[1;33m(\u001b[0m\u001b[1;34m'https://www.cimsolutions.nl/over-ons/'\u001b[0m\u001b[1;33m)\u001b[0m\u001b[1;33m:\u001b[0m\u001b[1;33m\u001b[0m\u001b[1;33m\u001b[0m\u001b[0m\n\u001b[0m\u001b[0;32m      6\u001b[0m         \u001b[0murl_store\u001b[0m\u001b[1;33m.\u001b[0m\u001b[0minsert\u001b[0m\u001b[1;33m(\u001b[0m\u001b[0mstore\u001b[0m\u001b[1;33m,\u001b[0m \u001b[0mlink\u001b[0m\u001b[1;33m)\u001b[0m\u001b[1;33m\u001b[0m\u001b[1;33m\u001b[0m\u001b[0m\n\u001b[0;32m      7\u001b[0m         \u001b[0mstore\u001b[0m \u001b[1;33m+=\u001b[0m\u001b[1;36m1\u001b[0m\u001b[1;33m\u001b[0m\u001b[1;33m\u001b[0m\u001b[0m\n",
      "\u001b[1;31mAttributeError\u001b[0m: 'NoneType' object has no attribute 'startswith'"
     ]
    }
   ],
   "source": [
    "# i only want pages related to 'over-ons'\n",
    "url_store =[]\n",
    "store = 1\n",
    "for link in urls:\n",
    "    if link.startswith('https://www.cimsolutions.nl/over-ons/'):\n",
    "        url_store.insert(store, link)\n",
    "        store +=1"
   ]
  },
  {
   "cell_type": "code",
   "execution_count": 149,
   "id": "82df5d76",
   "metadata": {},
   "outputs": [
    {
     "data": {
      "text/plain": [
       "['https://www.cimsolutions.nl/over-ons/',\n",
       " 'https://www.cimsolutions.nl/over-ons/missie-kernwaarden/',\n",
       " 'https://www.cimsolutions.nl/over-ons/meerwaarde/',\n",
       " 'https://www.cimsolutions.nl/over-ons/historie/',\n",
       " 'https://www.cimsolutions.nl/over-ons/nieuws/']"
      ]
     },
     "execution_count": 149,
     "metadata": {},
     "output_type": "execute_result"
    }
   ],
   "source": [
    "relevant_urls=[]\n",
    "for num in url_store:\n",
    "    if num not in relevant_urls:\n",
    "        relevant_urls.append(num)\n",
    "relevant_urls"
   ]
  },
  {
   "cell_type": "code",
   "execution_count": 150,
   "id": "7798c7c6",
   "metadata": {},
   "outputs": [
    {
     "name": "stderr",
     "output_type": "stream",
     "text": [
      "2022-12-11 15:37:00 [urllib3.connectionpool] DEBUG: Starting new HTTPS connection (1): www.cimsolutions.nl:443\n"
     ]
    },
    {
     "name": "stdout",
     "output_type": "stream",
     "text": [
      "https://www.cimsolutions.nl/over-ons/\n"
     ]
    },
    {
     "name": "stderr",
     "output_type": "stream",
     "text": [
      "2022-12-11 15:37:01 [urllib3.connectionpool] DEBUG: https://www.cimsolutions.nl:443 \"GET /over-ons/ HTTP/1.1\" 200 None\n",
      "2022-12-11 15:37:01 [urllib3.connectionpool] DEBUG: Starting new HTTPS connection (1): www.cimsolutions.nl:443\n"
     ]
    },
    {
     "name": "stdout",
     "output_type": "stream",
     "text": [
      "https://www.cimsolutions.nl/over-ons/missie-kernwaarden/\n"
     ]
    },
    {
     "name": "stderr",
     "output_type": "stream",
     "text": [
      "2022-12-11 15:37:01 [urllib3.connectionpool] DEBUG: https://www.cimsolutions.nl:443 \"GET /over-ons/missie-kernwaarden/ HTTP/1.1\" 200 None\n",
      "2022-12-11 15:37:01 [urllib3.connectionpool] DEBUG: Starting new HTTPS connection (1): www.cimsolutions.nl:443\n"
     ]
    },
    {
     "name": "stdout",
     "output_type": "stream",
     "text": [
      "https://www.cimsolutions.nl/over-ons/meerwaarde/\n"
     ]
    },
    {
     "name": "stderr",
     "output_type": "stream",
     "text": [
      "2022-12-11 15:37:02 [urllib3.connectionpool] DEBUG: https://www.cimsolutions.nl:443 \"GET /over-ons/meerwaarde/ HTTP/1.1\" 200 None\n",
      "2022-12-11 15:37:02 [urllib3.connectionpool] DEBUG: Starting new HTTPS connection (1): www.cimsolutions.nl:443\n"
     ]
    },
    {
     "name": "stdout",
     "output_type": "stream",
     "text": [
      "https://www.cimsolutions.nl/over-ons/historie/\n"
     ]
    },
    {
     "name": "stderr",
     "output_type": "stream",
     "text": [
      "2022-12-11 15:37:03 [urllib3.connectionpool] DEBUG: https://www.cimsolutions.nl:443 \"GET /over-ons/historie/ HTTP/1.1\" 200 None\n",
      "2022-12-11 15:37:03 [urllib3.connectionpool] DEBUG: Starting new HTTPS connection (1): www.cimsolutions.nl:443\n"
     ]
    },
    {
     "name": "stdout",
     "output_type": "stream",
     "text": [
      "https://www.cimsolutions.nl/over-ons/nieuws/\n"
     ]
    },
    {
     "name": "stderr",
     "output_type": "stream",
     "text": [
      "2022-12-11 15:37:03 [urllib3.connectionpool] DEBUG: https://www.cimsolutions.nl:443 \"GET /over-ons/nieuws/ HTTP/1.1\" 200 None\n"
     ]
    }
   ],
   "source": [
    "def get_pages(URL_SET, text_set):\n",
    "    for link in URL_SET:\n",
    "        print(link)\n",
    "        page = requests.get(link)\n",
    "        soup = bs(page.content, \"html.parser\")\n",
    "        for data in soup(['style', 'script']):\n",
    "            # Remove tags\n",
    "            data.decompose()\n",
    "        # return data by retrieving the tag content\n",
    "        text_set.append( ' '.join(soup.stripped_strings))\n",
    "\n",
    "text_set = []\n",
    "get_pages(relevant_urls, text_set)"
   ]
  },
  {
   "cell_type": "code",
   "execution_count": 151,
   "id": "af1c36b5",
   "metadata": {},
   "outputs": [
    {
     "data": {
      "text/plain": [
       "['Organisatie | CIMSOLUTIONS Ga naar inhoud Learn, Create and Make It Work Over Ons Organisatie Missie & Kernwaarden Meerwaarde Historie Nieuws Dienstverlening Diensten Expertises Marktsectoren Referenties Werken Bij Vactures Vactures Waarom CIMSOLUTIONS? Carrière als Professional Carrière als Young Professional Afstuderen bij CIMSOLUTIONS Medewerkers aan het woord Open sollicitatie Open sollicitatie Leverancier / ZZP Werken Voor CIMSOLUTIONS Meld je aan Wet DBA Contact & Locaties Search Zoeken Zoeken … Search Zoeken Zoeken … Zoeken Zoeken … Menu Over Ons Organisatie Missie & Kernwaarden Meerwaarde Historie Nieuws Dienstverlening Diensten Expertises Marktsectoren Referenties Werken Bij Vactures Vactures Waarom CIMSOLUTIONS? Carrière als Professional Carrière als Young Professional Afstuderen bij CIMSOLUTIONS Medewerkers aan het woord Open sollicitatie Open sollicitatie Leverancier / ZZP Werken Voor CIMSOLUTIONS Meld je aan Wet DBA Contact & Locaties Home » Organisatie Organisatie Organisatie CIMSOLUTIONS levert al 30 jaar hoogwaardige en professionele ICT consultancy diensten en softwareontwikkeling oplossingen aan de top 500 grootste bedrijven van Nederland. Onze expertise dekt alle fasen van de software levenscyclus: Specificatie en haalbaarheid Ontwerp, ontwikkeling, test en implementatie Onderhoud, beheer en projectmanagement van zowel maatwerk- als standaardapplicaties, systemen, hardware en netwerken. Wij passen state-of-the-art ICT concepten en technieken toe, waardoor we altijd de optimale oplossing bieden voor onze klanten. Niet voor niets is onze slogan Learn, create and make it work! Met onze uitstekende track-record en een hoge klanttevredenheid bij onze gerenommeerde klanten, is CIMSOLUTIONS uw ideale partner. “Waarom is CIMSOLUTIONS ondanks alle veranderingen, recessies en uitdagingen succesvol geweest en gebleven? Wat is het geheim van ons succes? Er is altijd één ding constant gebleven en niet veranderd: de kwaliteit en de professionaliteit van onze mensen. De passie voor het beroep en de klantgerichtheid, waarmee ze dagelijks de klant helpen om beter en succesvoller te worden, en daarmee onze missie en kernwaarden uitdragen, verdient een pluim.” Moynul Hassain CEO CIMSOLUTIONS Sinds de oprichting in Nederland in 1992 is CIMSOLUTIONS B.V. autonoom doorgegroeid naar een klantgerichte internationale onderneming met vestigingen in Nederland en Bangladesh. Vanuit de zes Nederlandse vestigingen in Amsterdam, Best, Deventer, Groningen, Rotterdam en Vianen bedienen we onze klanten in alle regio’s van Nederland. Voor offshore dienstverlening, softwareontwikkeling, applicatiebeheer en testen hebben wij een eigen vestiging in Dhaka (Bangladesh). Bij CIMSOLUTIONS werken 300 hoogopgeleide ICT professionals, met minimaal een HBO- of Universitair diploma. Zij adviseren en ondersteunen klanten op het gebied van onder andere bestuurlijke, zakelijke en administratieve automatisering, R&D, embedded ontwikkeling, technische en industriële automatisering. Onze organisatiecultuur is samen te vatten met de termen: klantgericht, toegankelijk, snel, flexibel, op leren ingesteld en no nonsense. MEER OVER ONZE DIENSTVERLENING Top Employer CIMSOLUTONS is maar liefst vijftien keer uitgeroepen tot Top Employer Nederland door het onafhankelijke Top Employers Institute. CIMSOLUTIONS vindt een goed en vooral innovatief HR beleid belangrijk om zowel onze bestaande als nieuwe medewerkers blijvend uitdaging te kunnen bieden. De deelname aan het Top Employer onderzoek geeft ons een gedegen beeld van de markt en houdt ons scherp om ons nog verder te ontwikkelen en verbeteren. MEER OVER WERKEN BIJ CIMSOLUTIONS Benieuwd naar onze vacatures? Wij zijn altijd op zoek naar gedreven professionals NAAR VACTURES NAAR VACTURES Geïnteresseerd? Wij horen graag van je! Neem contact met ons op. NAAR CONTACT Goedendag, ik ben Chatbot Susan. Kan ik u ergens mee helpen? Chatbot Susan Nederlands Engels Nieuws | Copyright | Disclaimer | Privacy Statement ©\\xa02022 CIMSOLUTIONS –\\xa0Alle rechten voorbehouden Aangeboden door WP –\\xa0Ontworpen met de Customizr thema We gebruiken cookies om u de beste ervaring op onze website te geven. U kunt meer informatie vinden over welke cookies we gebruiken of deze uitschakelen in settings . Aanvaarden Afwijzen Cookie-instellingen wijzigen Sluit GDPR (AVG) cookie instellingen Privacyoverzicht Strikt noodzakelijke cookies Aangedreven door GDPR Cookie Compliance Privacyoverzicht Deze website maakt gebruik van cookies zodat we u de best mogelijke gebruikerservaring kunnen bieden. Cookie-informatie wordt opgeslagen in uw browser en voert functies uit zoals u herkennen wanneer u terugkeert naar onze website en ons team helpen te begrijpen welke delen van de website u het meest interessant en nuttig vindt. Strikt noodzakelijke cookies Strikt noodzakelijke cookies moeten te allen tijde zijn ingeschakeld, zodat we uw voorkeuren voor cookie-instellingen kunnen opslaan. In/Uit- schakelen cookies Als u deze cookie uitschakelt, kunnen we uw voorkeuren niet opslaan. Dit betekent dat u bij elk bezoek aan deze website cookies opnieuw moet in- of uitschakelen. Schakel alles in Alles afwijzen Wijzigingen opslaan',\n",
       " 'Missie & Kernwaarden | CIMSOLUTIONS Ga naar inhoud Learn, Create and Make It Work Over Ons Organisatie Missie & Kernwaarden Meerwaarde Historie Nieuws Dienstverlening Diensten Expertises Marktsectoren Referenties Werken Bij Vactures Vactures Waarom CIMSOLUTIONS? Carrière als Professional Carrière als Young Professional Afstuderen bij CIMSOLUTIONS Medewerkers aan het woord Open sollicitatie Open sollicitatie Leverancier / ZZP Werken Voor CIMSOLUTIONS Meld je aan Wet DBA Contact & Locaties Search Zoeken Zoeken … Search Zoeken Zoeken … Zoeken Zoeken … Menu Over Ons Organisatie Missie & Kernwaarden Meerwaarde Historie Nieuws Dienstverlening Diensten Expertises Marktsectoren Referenties Werken Bij Vactures Vactures Waarom CIMSOLUTIONS? Carrière als Professional Carrière als Young Professional Afstuderen bij CIMSOLUTIONS Medewerkers aan het woord Open sollicitatie Open sollicitatie Leverancier / ZZP Werken Voor CIMSOLUTIONS Meld je aan Wet DBA Contact & Locaties Home » Organisatie » Missie & Kernwaarden Missie & Kernwaarden Missie & Kernwaarden Onze missie CIMSOLUTIONS levert hoogwaardige ICT-diensten en -oplossingen. Wij spelen optimaal in op de behoefte van de klant en streven naar een succesvolle en langdurige samenwerking. Met het vizier gericht op de toekomst, ontwikkelen wij ons continu. We blijven innoveren en ons aanpassen aan de steeds veranderende technologie en de markt. Ons doel is om de klant te helpen met de introductie van nieuwe concepten, methodieken en technologieën. Onze slogan luidt daarom: “Learn, create & make it work”. Onze kernwaarden Continuïteit CIMSOLUTIONS waarborgt de langdurige relatie door continu te investeren in haar klanten en medewerkers en het bieden van extra toegevoegde waarde door kennisdeling, opleiding en trainingen. Onze sterke financiële positie staat ook garant voor de continuïteit. Kwaliteit Als ISO 9001:2015 en NEN 4400-1 gecertificeerde organisatie werken wij voortdurend aan het verbeteren van de dienstverlening. Direct en frequent contact met klanten en medewerkers staat centraal. Onze uitstekende jaarlijkse klanttevredenheidsscores bewijzen dat dit werkt. Professionaliteit CIMSOLUTIONS levert hoogwaardige ICT-diensten en -oplossingen op het gebied van bestuurlijke, administratieve en industriële automatisering. Deze diensten leveren wij via detachering van ICT-specialisten (vanaf HBO niveau), het geven van advies en het uitvoeren van projecten. Onze medewerkers zijn hoogopgeleid en blijven up-to-date met de nieuwste methoden, concepten en technieken door continue kennisdeling, coaching, training, opleiding en certificeringen. Geavanceerdheid Wij richten ons op het toepassen van state-of-the-art ICT concepten, technieken en methoden aangevuld met domein en branche specifieke kennis en kunde voor de optimale oplossing voor onze klanten. In onze Competence Centers werken wij met de nieuwste technieken, methodieken en gereedschappen, waarmee wij onze klanten helpen om voorop te blijven lopen. Onafhankelijkheid CIMSOLUTIONS is volledig onafhankelijk van hard- en softwareleveranciers, waardoor wij onze klanten objectief en optimaal kunnen adviseren en ondersteunen. Betrouwbaarheid Door uit te blinken in continuïteit, kwaliteit en professionaliteit, zijn wij een betrouwbare partner voor onze klanten en toeleveranciers en een betrouwbare werkgever voor onze medewerkers. Benieuwd naar onze vacatures? Wij zijn altijd op zoek naar gedreven professionals NAAR VACTURES NAAR VACTURES Geïnteresseerd? Wij horen graag van je! Neem contact met ons op. NAAR CONTACT Goedendag, ik ben Chatbot Susan. Kan ik u ergens mee helpen? Chatbot Susan Nederlands Engels Nieuws | Copyright | Disclaimer | Privacy Statement ©\\xa02022 CIMSOLUTIONS –\\xa0Alle rechten voorbehouden Aangeboden door WP –\\xa0Ontworpen met de Customizr thema We gebruiken cookies om u de beste ervaring op onze website te geven. U kunt meer informatie vinden over welke cookies we gebruiken of deze uitschakelen in settings . Aanvaarden Afwijzen Cookie-instellingen wijzigen Sluit GDPR (AVG) cookie instellingen Privacyoverzicht Strikt noodzakelijke cookies Aangedreven door GDPR Cookie Compliance Privacyoverzicht Deze website maakt gebruik van cookies zodat we u de best mogelijke gebruikerservaring kunnen bieden. Cookie-informatie wordt opgeslagen in uw browser en voert functies uit zoals u herkennen wanneer u terugkeert naar onze website en ons team helpen te begrijpen welke delen van de website u het meest interessant en nuttig vindt. Strikt noodzakelijke cookies Strikt noodzakelijke cookies moeten te allen tijde zijn ingeschakeld, zodat we uw voorkeuren voor cookie-instellingen kunnen opslaan. In/Uit- schakelen cookies Als u deze cookie uitschakelt, kunnen we uw voorkeuren niet opslaan. Dit betekent dat u bij elk bezoek aan deze website cookies opnieuw moet in- of uitschakelen. Schakel alles in Alles afwijzen Wijzigingen opslaan',\n",
       " 'Meerwaarde | CIMSOLUTIONS Ga naar inhoud Learn, Create and Make It Work Over Ons Organisatie Missie & Kernwaarden Meerwaarde Historie Nieuws Dienstverlening Diensten Expertises Marktsectoren Referenties Werken Bij Vactures Vactures Waarom CIMSOLUTIONS? Carrière als Professional Carrière als Young Professional Afstuderen bij CIMSOLUTIONS Medewerkers aan het woord Open sollicitatie Open sollicitatie Leverancier / ZZP Werken Voor CIMSOLUTIONS Meld je aan Wet DBA Contact & Locaties Search Zoeken Zoeken … Search Zoeken Zoeken … Zoeken Zoeken … Menu Over Ons Organisatie Missie & Kernwaarden Meerwaarde Historie Nieuws Dienstverlening Diensten Expertises Marktsectoren Referenties Werken Bij Vactures Vactures Waarom CIMSOLUTIONS? Carrière als Professional Carrière als Young Professional Afstuderen bij CIMSOLUTIONS Medewerkers aan het woord Open sollicitatie Open sollicitatie Leverancier / ZZP Werken Voor CIMSOLUTIONS Meld je aan Wet DBA Contact & Locaties Home » Organisatie » Meerwaarde Meerwaarde Meerwaarde Het leveren van professionele, onafhankelijke, hoogwaardige ICT-diensten, met een concurrerende prijs / kwaliteit verhouding. Gebaseerd op een langetermijnrelatie met klanten en medewerkers, een efficiënte ISO- en NEN-gecertificeerde organisatie en een Lean kostenstructuur. Dát is waar CIMSOLUTIONS voor staat. Kwaliteit CIMSOLUTIONS is ISO 9001:2015 en NEN 4400-01 gecertificeerd voor het leveren van ICT-diensten en -oplossingen als consultancy, detachering, projectuitvoering en applicatiebeheer; Ons Accountmanagement is gericht op het onderhouden van een langetermijnrelatie met onze klanten en het continu bewaken van de klanttevredenheid. Met de uitstekende track-record en een hoge klanttevredenheid bij onze gerenommeerde klanten in Nederland en daarbuiten, is CIMSOLUTIONS uw ideale partner; Ons Fieldmanagement is gericht op het bewaken van klant- en medewerkertevredenheid over de geleverde prestaties door onze medewerkers. Het continu streven naar een langdurige relatie met onze medewerkers en het keurmerk “Top Employer Nederland” draagt bij aan het aantrekken en het behoud van de medewerkers en dus de continuïteit van onze dienstverlening; Ons Matchingproces staat garant voor een perfecte aansluiting van de vraag van de klant en de juiste beschikbare medewerker; Door onze Projectmanagementaanpak kunnen wij (en u) risico’s beheersen en tijdig de afgesproken systemen opleveren; Ons Kennismanagementproces zorgt ervoor dat CIMSOLUTIONS zich richt op strategische kennisgebieden waarbinnen ICT’ers van mentoren en van elkaar leren. Kennis wordt snel opgenomen en stroomt tussen medewerkers en naar\\xa0klanten toe. Niet voor niets is onze slogan Learn, create and make it work! Specialisatie en volledige ondersteuning Door onze specialisatie in de vele marktsectoren, en in vakgebieden, kunnen onze medewerkers in alle fasen van het softwaretraject worden ingezet. Van specificatie en pakketselectie tot en met ontwerp, ontwikkeling, test, implementatie, onderhoud en projectmanagement. “Onze medewerkers zijn de ware ambassadeurs van CIMSOLUTIONS, de belangrijkste reden voor het succes van ons bedrijf.” Moynul Hassain CEO CIMSOLUTIONS Regionale en internationale ondersteuning Met meer dan 300 ICT-ers werken wij vanuit onze kantoren in Vianen, Best, Deventer, Rotterdam, Amsterdam, Groningen en Dhaka (Bangladesh). Wij ondersteunen onze klanten in Nederland en Europa en daarbuiten met hun IT-vraagstukken en -uitdagingen. Prijs Onze tarieven zijn concurrerend, zeker gezien het kwaliteitsniveau van onze medewerkers. Benadering Onze benadering is breder dan uitsluitend het automatiseringsvraagstuk. Het verdient vaak aanbeveling eerst de bedrijfsprocessen in kaart te brengen en te optimaliseren, voordat het automatiseringsdeel aan bod komt. Onafhankelijkheid van leveranciers CIMSOLUTIONS heeft geen enkele binding met leveranciers. Onze adviezen en oplossingen zijn objectief en zuiver toegespitst op de vraagstelling van de opdrachtgever en niet op de producten van een specifieke leverancier. Offshoring Vanuit onze eigen vestiging in Bangladesh bieden wij u de mogelijkheid tot offshoring. U realiseert naast kostenbesparing ook een kortere “time to market”, hogere omzet, toegang tot nieuwe markten, flexibele en schaalbare capaciteit en een hogere proceseffectiviteit. Milieuzorgsysteem / Maatschappelijk verantwoord ondernemen (MVO) CIMSOLUTIONS ziet duurzaamheid (sociale- en milieuaspecten) en maatschappelijk verantwoord ondernemen (MVO) sinds 2000 als een integraal onderdeel van haar bedrijfsvoering. Samen met onze medewerkers en klanten dragen wij de verantwoordelijkheid om bewust om te gaan met het milieu. Ons milieuzorgsysteem (gebaseerd op ISO 14001) waarborgt een continue verbetering van onze milieudoelstellingen en milieuprestaties door het actief verminderen van de milieubelasting. Het MVO beleid van CIMSOLUTIONS is opgezet volgens de internationale richtlijnen van ISO 26000. ISO 26000 onderschrijft de volle breedte van maatschappelijke betrokkenheid en duurzaamheid zoals diversiteit, ethiek, milieu, mensenrechten en arbeidsomstandigheden. Waarden die CIMSOLUTIONS zeer hoog in het vaandel heeft staan en heeft ingebed in haar bedrijfsvoering. Diversiteit Diversiteit is voor ons een\\xa0van de waarden van Maatschappelijk Verantwoord Ondernemen. Binnen CIMSOLUTIONS betekent dit dat er gelijke kansen zijn voor alle medewerkers ongeacht geslacht, leeftijd, ras, nationaliteit, godsdienst, levensovertuiging, politieke gezindheid, seksuele voorkeur of handicap. Gelijke kansen bij werving en selectie, maar ook in groeimogelijkheden en werkverdeling. Wij acteren volledig naar de wet gelijke behandeling en zien diversiteit als een kans om de resultaten voor onze klanten te verbeteren. Ervaring leert dat diversiteit in teams leidt tot de beste oplossing. Benieuwd naar onze vacatures? Wij zijn altijd op zoek naar gedreven professionals NAAR VACTURES NAAR VACTURES Geïnteresseerd? Wij horen graag van je! Neem contact met ons op. NAAR CONTACT Goedendag, ik ben Chatbot Susan. Kan ik u ergens mee helpen? Chatbot Susan Nederlands Engels Nieuws | Copyright | Disclaimer | Privacy Statement ©\\xa02022 CIMSOLUTIONS –\\xa0Alle rechten voorbehouden Aangeboden door WP –\\xa0Ontworpen met de Customizr thema We gebruiken cookies om u de beste ervaring op onze website te geven. U kunt meer informatie vinden over welke cookies we gebruiken of deze uitschakelen in settings . Aanvaarden Afwijzen Cookie-instellingen wijzigen Sluit GDPR (AVG) cookie instellingen Privacyoverzicht Strikt noodzakelijke cookies Aangedreven door GDPR Cookie Compliance Privacyoverzicht Deze website maakt gebruik van cookies zodat we u de best mogelijke gebruikerservaring kunnen bieden. Cookie-informatie wordt opgeslagen in uw browser en voert functies uit zoals u herkennen wanneer u terugkeert naar onze website en ons team helpen te begrijpen welke delen van de website u het meest interessant en nuttig vindt. Strikt noodzakelijke cookies Strikt noodzakelijke cookies moeten te allen tijde zijn ingeschakeld, zodat we uw voorkeuren voor cookie-instellingen kunnen opslaan. In/Uit- schakelen cookies Als u deze cookie uitschakelt, kunnen we uw voorkeuren niet opslaan. Dit betekent dat u bij elk bezoek aan deze website cookies opnieuw moet in- of uitschakelen. Schakel alles in Alles afwijzen Wijzigingen opslaan',\n",
       " 'Historie | CIMSOLUTIONS Ga naar inhoud Learn, Create and Make It Work Over Ons Organisatie Missie & Kernwaarden Meerwaarde Historie Nieuws Dienstverlening Diensten Expertises Marktsectoren Referenties Werken Bij Vactures Vactures Waarom CIMSOLUTIONS? Carrière als Professional Carrière als Young Professional Afstuderen bij CIMSOLUTIONS Medewerkers aan het woord Open sollicitatie Open sollicitatie Leverancier / ZZP Werken Voor CIMSOLUTIONS Meld je aan Wet DBA Contact & Locaties Search Zoeken Zoeken … Search Zoeken Zoeken … Zoeken Zoeken … Menu Over Ons Organisatie Missie & Kernwaarden Meerwaarde Historie Nieuws Dienstverlening Diensten Expertises Marktsectoren Referenties Werken Bij Vactures Vactures Waarom CIMSOLUTIONS? Carrière als Professional Carrière als Young Professional Afstuderen bij CIMSOLUTIONS Medewerkers aan het woord Open sollicitatie Open sollicitatie Leverancier / ZZP Werken Voor CIMSOLUTIONS Meld je aan Wet DBA Contact & Locaties Home » Organisatie » Historie Historie 2021 15e keer uitgeroepen tot Top Employer ICT Nederland 2020 14e keer uitgeroepen tot Top Employer ICT Nederland 2019 13e keer uitgeroepen tot Top Employer ICT Nederland 2018 12e keer uitgeroepen tot Top Employer ICT Nederland 2017 Opening vestiging Maastricht 2017 11e keer uitgeroepen tot Top Employer ICT Nederland 2016 10e keer uitgeroepen tot Top Employer ICT Nederland 2015 9e keer uitgeroepen tot Top Employer ICT Nederland 2014 8e keer uitgeroepen tot Top Employer ICT Nederlan8 2014 ISO 9001:2015 Voor Applicatiebeheer gecertificeerd 2013 7e keer uitgeroepen tot Top Employer ICT Nederland 2012 NEN 4400-01 gecertificeerd 2012 6e keer uitgeroepen tot Top Employer ICT Nederland 2011 5e keer uitgeroepen tot Top Employer ICT Nederland 2011 Uitgeroepen tot Financieel Krachtigste ICT-bedrijf 2011 Opening vestiging Groningen 2010 4e keer uitgeroepen tot Top Employer ICT Nederland 2008 3e keer uitgeroepen tot Top Employer ICT Nederland 2007 2e keer uitgeroepen tot Top Employer ICT Nederland 2007 Opening vestiging Amsterdam 2006 ISO 9001:2015 Voor Projectuitvoering gecertificeerd 2006 1e keer uitgeroepen tot Top Employer ICT Nederland 2004 ISO 9001:2015 Voor Consultancy en Detachering gecertificeerd 2002 Opening vestiging Rotterdam 2001 Opening vestiging Deventer 2000 Opening vestiging Best 1995 Opening vestiging Vianen 1992 Oprichting CIMSOLUTIONS Goedendag, ik ben Chatbot Susan. Kan ik u ergens mee helpen? Chatbot Susan Nederlands Engels Nieuws | Copyright | Disclaimer | Privacy Statement ©\\xa02022 CIMSOLUTIONS –\\xa0Alle rechten voorbehouden Aangeboden door WP –\\xa0Ontworpen met de Customizr thema We gebruiken cookies om u de beste ervaring op onze website te geven. U kunt meer informatie vinden over welke cookies we gebruiken of deze uitschakelen in settings . Aanvaarden Afwijzen Cookie-instellingen wijzigen Sluit GDPR (AVG) cookie instellingen Privacyoverzicht Strikt noodzakelijke cookies Aangedreven door GDPR Cookie Compliance Privacyoverzicht Deze website maakt gebruik van cookies zodat we u de best mogelijke gebruikerservaring kunnen bieden. Cookie-informatie wordt opgeslagen in uw browser en voert functies uit zoals u herkennen wanneer u terugkeert naar onze website en ons team helpen te begrijpen welke delen van de website u het meest interessant en nuttig vindt. Strikt noodzakelijke cookies Strikt noodzakelijke cookies moeten te allen tijde zijn ingeschakeld, zodat we uw voorkeuren voor cookie-instellingen kunnen opslaan. In/Uit- schakelen cookies Als u deze cookie uitschakelt, kunnen we uw voorkeuren niet opslaan. Dit betekent dat u bij elk bezoek aan deze website cookies opnieuw moet in- of uitschakelen. Schakel alles in Alles afwijzen Wijzigingen opslaan',\n",
       " 'Nieuws | CIMSOLUTIONS Ga naar inhoud Learn, Create and Make It Work Over Ons Organisatie Missie & Kernwaarden Meerwaarde Historie Nieuws Dienstverlening Diensten Expertises Marktsectoren Referenties Werken Bij Vactures Vactures Waarom CIMSOLUTIONS? Carrière als Professional Carrière als Young Professional Afstuderen bij CIMSOLUTIONS Medewerkers aan het woord Open sollicitatie Open sollicitatie Leverancier / ZZP Werken Voor CIMSOLUTIONS Meld je aan Wet DBA Contact & Locaties Search Zoeken Zoeken … Search Zoeken Zoeken … Zoeken Zoeken … Menu Over Ons Organisatie Missie & Kernwaarden Meerwaarde Historie Nieuws Dienstverlening Diensten Expertises Marktsectoren Referenties Werken Bij Vactures Vactures Waarom CIMSOLUTIONS? Carrière als Professional Carrière als Young Professional Afstuderen bij CIMSOLUTIONS Medewerkers aan het woord Open sollicitatie Open sollicitatie Leverancier / ZZP Werken Voor CIMSOLUTIONS Meld je aan Wet DBA Contact & Locaties Home » Organisatie » Nieuws Nieuws Gemeente Den Haag kiest opnieuw CIMSOLUTIONS voor raamovereenkomst inhuur externen 06/10/2022 Gemeente Den Haag kiest opnieuw CIMSOLUTIONS voor raamovereenkomst inhuur extern IT-personeel 2022-2026 ... LEES MEER RDW gunt contract Inhuur ICT-Professionals aan CIMSOLUTIONS 06/10/2022 RDW gunt contract Inhuur ICT-Professionals aan CIMSOLUTIONS RDW heeft een raamovereenkomst voor de inhuur van  ... LEES MEER CIMSOLUTIONS wint aanbesteding inhuur ICT-Professionals van Belastingdienst! 28/02/2022 CIMSOLUTIONS wint aanbesteding inhuur ICT-Professionals van Belastingdienst! De Belastingdienst heeft opnieuw een  ... LEES MEER CIMSOLUTIONS wint aanbesteding inhuur ICT-Professionals van Ministerie van Buitenlandse Zaken 28/01/2022 CIMSOLUTIONS wint aanbesteding inhuur ICT-Professionals van Ministerie van Buitenlandse Zaken Het Ministerie van  ... LEES MEER CJIB gunt raamovereenkomst aan CIMSOLUTIONS voor de inhuur van ICT-professionals 28/12/2021 CJIB gunt raamovereenkomst aan CIMSOLUTIONS voor de inhuur van ICT-professionals Het Centraal Justitieel Incassobureau  ... LEES MEER CIMSOLUTIONS wint aanbesteding inhuur ICT-professionals van DICTU 28/09/2021 CIMSOLUTIONS wint aanbesteding inhuur ICT-professionals van DICTU Dienst ICT Uitvoering (DICTU) heeft wederom een  ... LEES MEER CIMSOLUTIONS voor de 15e keer erkend als Top Employer Nederland 28/08/2021 CIMSOLUTIONS voor de 15e keer erkend als Top Employer Nederland CIMSOLUTIONS is door het Top Employers Institute voor de  ... LEES MEER CIMSOLUTIONS wint aanbesteding inhuur ICT-Professionals van het ministerie van OCW en DUO Den Haag 28/03/2021 CIMSOLUTIONS wint aanbesteding inhuur ICT-Professionals van het ministerie van OCW en DUO Den Haag Het ministerie van  ... LEES MEER DUO Groningen gunt raamovereenkomst aan CIMSOLUTIONS voor de inhuur van ICT-Professionals 28/01/2021 DUO Groningen gunt raamovereenkomst aan CIMSOLUTIONS voor de inhuur van ICT-Professionals Dienst Uitvoering Onderwijs  ... LEES MEER Logius en SSC-ICT gunnen raamovereenkomst aan CIMSOLUTIONS voor de inhuur van ICT-Professionals 28/12/2020 Logius en SSC-ICT gunnen raamovereenkomst aan CIMSOLUTIONS voor de inhuur van ICT-Professionals Logius en SSC-ICT hebben  ... LEES MEER Ministeries van EZK en LNV gunnen raamovereenkomst aan CIMSOLUTIONS voor de inhuur van ICT-Professionals 28/10/2020 Ministeries van EZK en LNV gunnen raamovereenkomst aan CIMSOLUTIONS voor de inhuur van ICT-Professionals De ministeries  ... LEES MEER Gemeente Haarlemmermeer kiest CIMSOLUTIONS voor ICT Inhuur & Uitvoering resultaatsopdrachten 28/08/2020 Gemeente Haarlemmermeer kiest CIMSOLUTIONS voor ICT Inhuur & Uitvoering resultaatsopdrachten Gemeente Haarlemmermeer  ... LEES MEER 1 2 3 Goedendag, ik ben Chatbot Susan. Kan ik u ergens mee helpen? Chatbot Susan Nederlands Engels Nieuws | Copyright | Disclaimer | Privacy Statement ©\\xa02022 CIMSOLUTIONS –\\xa0Alle rechten voorbehouden Aangeboden door WP –\\xa0Ontworpen met de Customizr thema We gebruiken cookies om u de beste ervaring op onze website te geven. U kunt meer informatie vinden over welke cookies we gebruiken of deze uitschakelen in settings . Aanvaarden Afwijzen Cookie-instellingen wijzigen Sluit GDPR (AVG) cookie instellingen Privacyoverzicht Strikt noodzakelijke cookies Aangedreven door GDPR Cookie Compliance Privacyoverzicht Deze website maakt gebruik van cookies zodat we u de best mogelijke gebruikerservaring kunnen bieden. Cookie-informatie wordt opgeslagen in uw browser en voert functies uit zoals u herkennen wanneer u terugkeert naar onze website en ons team helpen te begrijpen welke delen van de website u het meest interessant en nuttig vindt. Strikt noodzakelijke cookies Strikt noodzakelijke cookies moeten te allen tijde zijn ingeschakeld, zodat we uw voorkeuren voor cookie-instellingen kunnen opslaan. In/Uit- schakelen cookies Als u deze cookie uitschakelt, kunnen we uw voorkeuren niet opslaan. Dit betekent dat u bij elk bezoek aan deze website cookies opnieuw moet in- of uitschakelen. Schakel alles in Alles afwijzen Wijzigingen opslaan']"
      ]
     },
     "execution_count": 151,
     "metadata": {},
     "output_type": "execute_result"
    }
   ],
   "source": [
    "#all text stored in a messy way -> change to an array with a title header\n",
    "text_set"
   ]
  },
  {
   "cell_type": "raw",
   "id": "47041c6c",
   "metadata": {},
   "source": []
  }
 ],
 "metadata": {
  "kernelspec": {
   "display_name": "Python 3 (ipykernel)",
   "language": "python",
   "name": "python3"
  },
  "language_info": {
   "codemirror_mode": {
    "name": "ipython",
    "version": 3
   },
   "file_extension": ".py",
   "mimetype": "text/x-python",
   "name": "python",
   "nbconvert_exporter": "python",
   "pygments_lexer": "ipython3",
   "version": "3.7.4"
  }
 },
 "nbformat": 4,
 "nbformat_minor": 5
}
