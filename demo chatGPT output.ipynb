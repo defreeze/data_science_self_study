{
 "cells": [
  {
   "cell_type": "markdown",
   "id": "af55fa4e",
   "metadata": {},
   "source": [
    "## meeting: chatGPT demo"
   ]
  },
  {
   "cell_type": "code",
   "execution_count": null,
   "id": "6cc9a31c",
   "metadata": {},
   "outputs": [
    {
     "name": "stdout",
     "output_type": "stream",
     "text": [
      "Kies steen, papier of schaar (of 'stop' om te stoppen): steen\n",
      "Beide spelers hebben steen. Het is gelijkspel!\n",
      "Kies steen, papier of schaar (of 'stop' om te stoppen): papier\n",
      "Beide spelers hebben papier. Het is gelijkspel!\n",
      "Kies steen, papier of schaar (of 'stop' om te stoppen): schaar\n",
      "Beide spelers hebben schaar. Het is gelijkspel!\n",
      "Kies steen, papier of schaar (of 'stop' om te stoppen): schaar\n",
      "Beide spelers hebben schaar. Het is gelijkspel!\n",
      "Kies steen, papier of schaar (of 'stop' om te stoppen): schaar\n",
      "Beide spelers hebben schaar. Het is gelijkspel!\n",
      "Kies steen, papier of schaar (of 'stop' om te stoppen): schaar\n",
      "Je hebt schaar gekozen en de computer koos papier. Je wint!\n",
      "Kies steen, papier of schaar (of 'stop' om te stoppen): steen\n",
      "Je hebt steen gekozen en de computer koos schaar. Je wint!\n"
     ]
    }
   ],
   "source": [
    "\n",
    "import random\n",
    "\n",
    "# Lijst met mogelijke keuzes\n",
    "keuzes = [\"steen\", \"papier\", \"schaar\"]\n",
    "\n",
    "while True:\n",
    "    # Vraag gebruiker om keuze\n",
    "    keuze_gebruiker = input(\"Kies steen, papier of schaar (of 'stop' om te stoppen): \").lower()\n",
    "    \n",
    "    # Stop als gebruiker 'stop' typt\n",
    "    if keuze_gebruiker == \"stop\":\n",
    "        break\n",
    "    \n",
    "    # Controleer of de keuze van de gebruiker geldig is\n",
    "    if keuze_gebruiker not in keuzes:\n",
    "        print(\"Ongeldige keuze. Probeer opnieuw.\")\n",
    "        continue\n",
    "    \n",
    "    # Genereer een willekeurige keuze voor de computer\n",
    "    keuze_computer = random.choice(keuzes)\n",
    "    \n",
    "    # Bepaal wie er wint\n",
    "    if keuze_gebruiker == keuze_computer:\n",
    "        print(f\"Beide spelers hebben {keuze_gebruiker}. Het is gelijkspel!\")\n",
    "    elif (keuze_gebruiker == \"steen\" and keuze_computer == \"schaar\") or (keuze_gebruiker == \"papier\" and keuze_computer == \"steen\") or (keuze_gebruiker == \"schaar\" and keuze_computer == \"papier\"):\n",
    "        print(f\"Je hebt {keuze_gebruiker} gekozen en de computer koos {keuze_computer}. Je wint!\")\n",
    "    else:\n",
    "        print(f\"Je hebt {keuze_gebruiker} gekozen en de computer koos {keuze_computer}. De computer wint!\")"
   ]
  },
  {
   "cell_type": "code",
   "execution_count": null,
   "id": "67de44e6",
   "metadata": {},
   "outputs": [],
   "source": []
  }
 ],
 "metadata": {
  "kernelspec": {
   "display_name": "Python 3 (ipykernel)",
   "language": "python",
   "name": "python3"
  },
  "language_info": {
   "codemirror_mode": {
    "name": "ipython",
    "version": 3
   },
   "file_extension": ".py",
   "mimetype": "text/x-python",
   "name": "python",
   "nbconvert_exporter": "python",
   "pygments_lexer": "ipython3",
   "version": "3.8.3"
  }
 },
 "nbformat": 4,
 "nbformat_minor": 5
}
