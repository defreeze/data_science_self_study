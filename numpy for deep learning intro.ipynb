{
  "nbformat": 4,
  "nbformat_minor": 0,
  "metadata": {
    "colab": {
      "name": "Numpy Tutorial.ipynb",
      "provenance": [],
      "collapsed_sections": []
    },
    "kernelspec": {
      "name": "python3",
      "display_name": "Python 3"
    }
  },
  "cells": [
    {
      "cell_type": "markdown",
      "metadata": {
        "id": "v3UUQkVko68G"
      },
      "source": [
        "Section 1 of:\n",
        "\n",
        "https://www.udemy.com/deep-learning-prerequisites-the-numpy-stack-in-python/\n",
        "\n",
        "https://deeplearningcourses.com/c/deep-learning-prerequisites-the-numpy-stack-in-python"
      ]
    },
    {
      "cell_type": "markdown",
      "metadata": {
        "id": "Qppj_nuWLj5x"
      },
      "source": [
        "## Arrays vs Lists"
      ]
    },
    {
      "cell_type": "code",
      "metadata": {
        "id": "2YWtop3oo3jK"
      },
      "source": [
        "import numpy as np"
      ],
      "execution_count": 1,
      "outputs": []
    },
    {
      "cell_type": "code",
      "metadata": {
        "id": "CYf8KIrKpDlp"
      },
      "source": [
        "L = [1,2,3]"
      ],
      "execution_count": 2,
      "outputs": []
    },
    {
      "cell_type": "code",
      "metadata": {
        "id": "AABDVAM-pKqw"
      },
      "source": [
        "A = np.array([1,2,3])"
      ],
      "execution_count": 3,
      "outputs": []
    },
    {
      "cell_type": "code",
      "metadata": {
        "id": "hYwR2_RepN6D",
        "colab": {
          "base_uri": "https://localhost:8080/"
        },
        "outputId": "d05a282a-d24d-4113-a778-00c3cc1d10c9"
      },
      "source": [
        "for e in L:\n",
        "  print(e)"
      ],
      "execution_count": 4,
      "outputs": [
        {
          "output_type": "stream",
          "name": "stdout",
          "text": [
            "1\n",
            "2\n",
            "3\n"
          ]
        }
      ]
    },
    {
      "cell_type": "code",
      "metadata": {
        "id": "l3N31fTspP4B",
        "colab": {
          "base_uri": "https://localhost:8080/"
        },
        "outputId": "212842be-6050-41d3-f129-f06e7ee097e7"
      },
      "source": [
        "for e in A:\n",
        "  print(e)"
      ],
      "execution_count": 5,
      "outputs": [
        {
          "output_type": "stream",
          "name": "stdout",
          "text": [
            "1\n",
            "2\n",
            "3\n"
          ]
        }
      ]
    },
    {
      "cell_type": "code",
      "metadata": {
        "id": "L_WURu4epSm6"
      },
      "source": [
        "L.append(4)"
      ],
      "execution_count": 6,
      "outputs": []
    },
    {
      "cell_type": "code",
      "metadata": {
        "id": "fDsd-UBXpXNU",
        "colab": {
          "base_uri": "https://localhost:8080/"
        },
        "outputId": "ac19c496-de6a-46ec-d21f-b02124660501"
      },
      "source": [
        "L"
      ],
      "execution_count": 7,
      "outputs": [
        {
          "output_type": "execute_result",
          "data": {
            "text/plain": [
              "[1, 2, 3, 4]"
            ]
          },
          "metadata": {},
          "execution_count": 7
        }
      ]
    },
    {
      "cell_type": "code",
      "metadata": {
        "id": "8DP73J3KpYH7",
        "colab": {
          "base_uri": "https://localhost:8080/",
          "height": 163
        },
        "outputId": "7154e14b-b70a-4ffb-a67a-7d9fb65e4ae5"
      },
      "source": [
        "A.append(4) # doesn't work"
      ],
      "execution_count": 8,
      "outputs": [
        {
          "output_type": "error",
          "ename": "AttributeError",
          "evalue": "ignored",
          "traceback": [
            "\u001b[0;31m---------------------------------------------------------------------------\u001b[0m",
            "\u001b[0;31mAttributeError\u001b[0m                            Traceback (most recent call last)",
            "\u001b[0;32m<ipython-input-8-84d7a00f227d>\u001b[0m in \u001b[0;36m<module>\u001b[0;34m()\u001b[0m\n\u001b[0;32m----> 1\u001b[0;31m \u001b[0mA\u001b[0m\u001b[0;34m.\u001b[0m\u001b[0mappend\u001b[0m\u001b[0;34m(\u001b[0m\u001b[0;36m4\u001b[0m\u001b[0;34m)\u001b[0m \u001b[0;31m# doesn't work\u001b[0m\u001b[0;34m\u001b[0m\u001b[0;34m\u001b[0m\u001b[0m\n\u001b[0m",
            "\u001b[0;31mAttributeError\u001b[0m: 'numpy.ndarray' object has no attribute 'append'"
          ]
        }
      ]
    },
    {
      "cell_type": "code",
      "metadata": {
        "id": "beoI6SsCpbQW",
        "colab": {
          "base_uri": "https://localhost:8080/"
        },
        "outputId": "74b660b9-82fb-40c0-f045-1af833533271"
      },
      "source": [
        "L + [5]"
      ],
      "execution_count": 9,
      "outputs": [
        {
          "output_type": "execute_result",
          "data": {
            "text/plain": [
              "[1, 2, 3, 4, 5]"
            ]
          },
          "metadata": {},
          "execution_count": 9
        }
      ]
    },
    {
      "cell_type": "code",
      "metadata": {
        "id": "UodzHCvUphsg",
        "colab": {
          "base_uri": "https://localhost:8080/"
        },
        "outputId": "3ea87285-6158-4133-995a-124705c77864"
      },
      "source": [
        "A + np.array([4])"
      ],
      "execution_count": 10,
      "outputs": [
        {
          "output_type": "execute_result",
          "data": {
            "text/plain": [
              "array([5, 6, 7])"
            ]
          },
          "metadata": {},
          "execution_count": 10
        }
      ]
    },
    {
      "cell_type": "code",
      "metadata": {
        "id": "NQeDCZ9fpl3M",
        "colab": {
          "base_uri": "https://localhost:8080/"
        },
        "outputId": "38bf569a-4b25-4704-cd66-c806bb1f5370"
      },
      "source": [
        "A + np.array([4,5,6])"
      ],
      "execution_count": 11,
      "outputs": [
        {
          "output_type": "execute_result",
          "data": {
            "text/plain": [
              "array([5, 7, 9])"
            ]
          },
          "metadata": {},
          "execution_count": 11
        }
      ]
    },
    {
      "cell_type": "code",
      "metadata": {
        "id": "FvYRdkbHppDf",
        "colab": {
          "base_uri": "https://localhost:8080/",
          "height": 163
        },
        "outputId": "7d70f5b9-4e87-4428-f38d-fe8c41f39b01"
      },
      "source": [
        "A + np.array([4,5]) # doesn't work"
      ],
      "execution_count": 12,
      "outputs": [
        {
          "output_type": "error",
          "ename": "ValueError",
          "evalue": "ignored",
          "traceback": [
            "\u001b[0;31m---------------------------------------------------------------------------\u001b[0m",
            "\u001b[0;31mValueError\u001b[0m                                Traceback (most recent call last)",
            "\u001b[0;32m<ipython-input-12-a963f9ab89a9>\u001b[0m in \u001b[0;36m<module>\u001b[0;34m()\u001b[0m\n\u001b[0;32m----> 1\u001b[0;31m \u001b[0mA\u001b[0m \u001b[0;34m+\u001b[0m \u001b[0mnp\u001b[0m\u001b[0;34m.\u001b[0m\u001b[0marray\u001b[0m\u001b[0;34m(\u001b[0m\u001b[0;34m[\u001b[0m\u001b[0;36m4\u001b[0m\u001b[0;34m,\u001b[0m\u001b[0;36m5\u001b[0m\u001b[0;34m]\u001b[0m\u001b[0;34m)\u001b[0m \u001b[0;31m# doesn't work\u001b[0m\u001b[0;34m\u001b[0m\u001b[0;34m\u001b[0m\u001b[0m\n\u001b[0m",
            "\u001b[0;31mValueError\u001b[0m: operands could not be broadcast together with shapes (3,) (2,) "
          ]
        }
      ]
    },
    {
      "cell_type": "code",
      "metadata": {
        "id": "MS2n4LxVpr6b",
        "colab": {
          "base_uri": "https://localhost:8080/"
        },
        "outputId": "c096f6b6-e0d2-45a3-d4dd-33acad652db9"
      },
      "source": [
        "2 * A"
      ],
      "execution_count": 13,
      "outputs": [
        {
          "output_type": "execute_result",
          "data": {
            "text/plain": [
              "array([2, 4, 6])"
            ]
          },
          "metadata": {},
          "execution_count": 13
        }
      ]
    },
    {
      "cell_type": "code",
      "metadata": {
        "id": "zO4USxRzptgs",
        "colab": {
          "base_uri": "https://localhost:8080/"
        },
        "outputId": "f384bd9d-c146-47d7-d428-6f476259f68d"
      },
      "source": [
        "2 * L"
      ],
      "execution_count": 14,
      "outputs": [
        {
          "output_type": "execute_result",
          "data": {
            "text/plain": [
              "[1, 2, 3, 4, 1, 2, 3, 4]"
            ]
          },
          "metadata": {},
          "execution_count": 14
        }
      ]
    },
    {
      "cell_type": "code",
      "metadata": {
        "id": "LtLSqZgipu-P",
        "colab": {
          "base_uri": "https://localhost:8080/"
        },
        "outputId": "594a6f1a-c16b-4e49-9a4e-b6d917c80183"
      },
      "source": [
        "L + L"
      ],
      "execution_count": 15,
      "outputs": [
        {
          "output_type": "execute_result",
          "data": {
            "text/plain": [
              "[1, 2, 3, 4, 1, 2, 3, 4]"
            ]
          },
          "metadata": {},
          "execution_count": 15
        }
      ]
    },
    {
      "cell_type": "code",
      "metadata": {
        "id": "RJ11NZkSp13o"
      },
      "source": [
        "L2 = []\n",
        "for e in L:\n",
        "  L2.append(e + 3)"
      ],
      "execution_count": 16,
      "outputs": []
    },
    {
      "cell_type": "code",
      "metadata": {
        "id": "ZgtqoSvIp4va",
        "colab": {
          "base_uri": "https://localhost:8080/"
        },
        "outputId": "6c4bb995-16f7-4bf2-ec9c-e318efdf92ff"
      },
      "source": [
        "L2"
      ],
      "execution_count": 17,
      "outputs": [
        {
          "output_type": "execute_result",
          "data": {
            "text/plain": [
              "[4, 5, 6, 7]"
            ]
          },
          "metadata": {},
          "execution_count": 17
        }
      ]
    },
    {
      "cell_type": "code",
      "metadata": {
        "id": "GZCQEk-Rp7gx"
      },
      "source": [
        "L2 = [e + 3 for e in L]"
      ],
      "execution_count": 18,
      "outputs": []
    },
    {
      "cell_type": "code",
      "metadata": {
        "id": "McUAtUVep960",
        "colab": {
          "base_uri": "https://localhost:8080/"
        },
        "outputId": "0bb625ee-de00-4a36-a12b-95092d6430d4"
      },
      "source": [
        "L2"
      ],
      "execution_count": 19,
      "outputs": [
        {
          "output_type": "execute_result",
          "data": {
            "text/plain": [
              "[4, 5, 6, 7]"
            ]
          },
          "metadata": {},
          "execution_count": 19
        }
      ]
    },
    {
      "cell_type": "code",
      "metadata": {
        "id": "vcy3WKcwp-wi"
      },
      "source": [
        "L2 = []\n",
        "for e in L:\n",
        "  L2.append(e**2)"
      ],
      "execution_count": 20,
      "outputs": []
    },
    {
      "cell_type": "code",
      "metadata": {
        "id": "1Emx-hN_qDa2",
        "colab": {
          "base_uri": "https://localhost:8080/"
        },
        "outputId": "8b806e5d-dd1a-4d76-9a66-1de177d57309"
      },
      "source": [
        "L2"
      ],
      "execution_count": 21,
      "outputs": [
        {
          "output_type": "execute_result",
          "data": {
            "text/plain": [
              "[1, 4, 9, 16]"
            ]
          },
          "metadata": {},
          "execution_count": 21
        }
      ]
    },
    {
      "cell_type": "code",
      "metadata": {
        "id": "blVB8cA9qERt",
        "colab": {
          "base_uri": "https://localhost:8080/"
        },
        "outputId": "f62c9374-7cf6-4f3d-aca7-0f91b2f6af6d"
      },
      "source": [
        "A**2"
      ],
      "execution_count": 22,
      "outputs": [
        {
          "output_type": "execute_result",
          "data": {
            "text/plain": [
              "array([1, 4, 9])"
            ]
          },
          "metadata": {},
          "execution_count": 22
        }
      ]
    },
    {
      "cell_type": "code",
      "metadata": {
        "id": "gDfVRJ5fqGPV",
        "colab": {
          "base_uri": "https://localhost:8080/"
        },
        "outputId": "98a14098-fe49-481f-dbcd-20ee4d42e5d7"
      },
      "source": [
        "np.sqrt(A)"
      ],
      "execution_count": 23,
      "outputs": [
        {
          "output_type": "execute_result",
          "data": {
            "text/plain": [
              "array([1.        , 1.41421356, 1.73205081])"
            ]
          },
          "metadata": {},
          "execution_count": 23
        }
      ]
    },
    {
      "cell_type": "code",
      "metadata": {
        "id": "yUwFM2OhqHwq",
        "colab": {
          "base_uri": "https://localhost:8080/"
        },
        "outputId": "27d8dff6-40db-4eed-b834-1455c5003f1a"
      },
      "source": [
        "np.log(A)"
      ],
      "execution_count": 24,
      "outputs": [
        {
          "output_type": "execute_result",
          "data": {
            "text/plain": [
              "array([0.        , 0.69314718, 1.09861229])"
            ]
          },
          "metadata": {},
          "execution_count": 24
        }
      ]
    },
    {
      "cell_type": "code",
      "metadata": {
        "id": "vlF9GWxzqIpd",
        "colab": {
          "base_uri": "https://localhost:8080/"
        },
        "outputId": "093b4a34-788d-42ca-ee57-8b79243a2c33"
      },
      "source": [
        "np.exp(A)"
      ],
      "execution_count": 25,
      "outputs": [
        {
          "output_type": "execute_result",
          "data": {
            "text/plain": [
              "array([ 2.71828183,  7.3890561 , 20.08553692])"
            ]
          },
          "metadata": {},
          "execution_count": 25
        }
      ]
    },
    {
      "cell_type": "code",
      "metadata": {
        "id": "pPvbPZB6qJq2",
        "colab": {
          "base_uri": "https://localhost:8080/"
        },
        "outputId": "0a588bc9-dabd-4663-ac8f-e5c27e3e3db0"
      },
      "source": [
        "np.tanh(A)"
      ],
      "execution_count": 26,
      "outputs": [
        {
          "output_type": "execute_result",
          "data": {
            "text/plain": [
              "array([0.76159416, 0.96402758, 0.99505475])"
            ]
          },
          "metadata": {},
          "execution_count": 26
        }
      ]
    },
    {
      "cell_type": "markdown",
      "metadata": {
        "id": "bITmEpM7LszR"
      },
      "source": [
        "## The Dot Product"
      ]
    },
    {
      "cell_type": "markdown",
      "metadata": {
        "id": "OJa5nyifvA-j"
      },
      "source": [
        "$$ a \\cdot b = a^T b = \\sum_{d=1}^D a_d b_d $$"
      ]
    },
    {
      "cell_type": "code",
      "metadata": {
        "id": "JnZ_vWW4qMTE"
      },
      "source": [
        "a = np.array([1,2])\n",
        "b = np.array([3,4])"
      ],
      "execution_count": 27,
      "outputs": []
    },
    {
      "cell_type": "code",
      "metadata": {
        "id": "bdD4Vzm3ryuR",
        "colab": {
          "base_uri": "https://localhost:8080/"
        },
        "outputId": "2cc2485a-5359-4625-829d-a642507a604a"
      },
      "source": [
        "dot = 0\n",
        "for e, f in zip(a, b):\n",
        "  dot += e*f\n",
        "dot"
      ],
      "execution_count": 28,
      "outputs": [
        {
          "output_type": "execute_result",
          "data": {
            "text/plain": [
              "11"
            ]
          },
          "metadata": {},
          "execution_count": 28
        }
      ]
    },
    {
      "cell_type": "code",
      "metadata": {
        "id": "efUGU3ZNEH9T",
        "colab": {
          "base_uri": "https://localhost:8080/"
        },
        "outputId": "8bb6a30f-70bf-4c61-910c-f51f0554a66f"
      },
      "source": [
        "# use integer index\n",
        "dot = 0\n",
        "for i in range(len(a)):\n",
        "  dot += a[i] * b[i]\n",
        "dot"
      ],
      "execution_count": 29,
      "outputs": [
        {
          "output_type": "execute_result",
          "data": {
            "text/plain": [
              "11"
            ]
          },
          "metadata": {},
          "execution_count": 29
        }
      ]
    },
    {
      "cell_type": "code",
      "metadata": {
        "id": "O8BdMMpxr6F_",
        "colab": {
          "base_uri": "https://localhost:8080/"
        },
        "outputId": "a0903d30-1a9f-41ca-ee7a-de2a480e2130"
      },
      "source": [
        "a * b"
      ],
      "execution_count": 30,
      "outputs": [
        {
          "output_type": "execute_result",
          "data": {
            "text/plain": [
              "array([3, 8])"
            ]
          },
          "metadata": {},
          "execution_count": 30
        }
      ]
    },
    {
      "cell_type": "code",
      "metadata": {
        "id": "E_Msua0sr_Tz",
        "colab": {
          "base_uri": "https://localhost:8080/"
        },
        "outputId": "958bfd81-bda4-460a-9c2f-c53cf95a793e"
      },
      "source": [
        "np.sum(a * b)"
      ],
      "execution_count": 31,
      "outputs": [
        {
          "output_type": "execute_result",
          "data": {
            "text/plain": [
              "11"
            ]
          },
          "metadata": {},
          "execution_count": 31
        }
      ]
    },
    {
      "cell_type": "code",
      "metadata": {
        "id": "HHLSRnxDsBEo",
        "colab": {
          "base_uri": "https://localhost:8080/"
        },
        "outputId": "d0c088e8-23fa-45e7-ac01-19a815406059"
      },
      "source": [
        "(a * b).sum()"
      ],
      "execution_count": 32,
      "outputs": [
        {
          "output_type": "execute_result",
          "data": {
            "text/plain": [
              "11"
            ]
          },
          "metadata": {},
          "execution_count": 32
        }
      ]
    },
    {
      "cell_type": "code",
      "metadata": {
        "id": "aRR1cbgksDmr",
        "colab": {
          "base_uri": "https://localhost:8080/"
        },
        "outputId": "1cac7537-a767-4db9-d1e6-0f4031dafd0b"
      },
      "source": [
        "np.dot(a, b)"
      ],
      "execution_count": 33,
      "outputs": [
        {
          "output_type": "execute_result",
          "data": {
            "text/plain": [
              "11"
            ]
          },
          "metadata": {},
          "execution_count": 33
        }
      ]
    },
    {
      "cell_type": "code",
      "metadata": {
        "id": "6WwQ2TzHsFC3",
        "colab": {
          "base_uri": "https://localhost:8080/"
        },
        "outputId": "8b01422f-7e40-4ecb-9847-e3e861bda209"
      },
      "source": [
        "a.dot(b)"
      ],
      "execution_count": 34,
      "outputs": [
        {
          "output_type": "execute_result",
          "data": {
            "text/plain": [
              "11"
            ]
          },
          "metadata": {},
          "execution_count": 34
        }
      ]
    },
    {
      "cell_type": "code",
      "metadata": {
        "id": "l34Llv1MsGGI",
        "colab": {
          "base_uri": "https://localhost:8080/"
        },
        "outputId": "f00ff1ce-a854-4188-fddc-68a4993e158a"
      },
      "source": [
        "b.dot(a)"
      ],
      "execution_count": 35,
      "outputs": [
        {
          "output_type": "execute_result",
          "data": {
            "text/plain": [
              "11"
            ]
          },
          "metadata": {},
          "execution_count": 35
        }
      ]
    },
    {
      "cell_type": "code",
      "metadata": {
        "id": "w7uLRNdesHTM",
        "colab": {
          "base_uri": "https://localhost:8080/"
        },
        "outputId": "ffddfd38-dc91-436b-9760-d05c09cd7fa0"
      },
      "source": [
        "a @ b"
      ],
      "execution_count": 36,
      "outputs": [
        {
          "output_type": "execute_result",
          "data": {
            "text/plain": [
              "11"
            ]
          },
          "metadata": {},
          "execution_count": 36
        }
      ]
    },
    {
      "cell_type": "markdown",
      "metadata": {
        "id": "NeQ_U0EevVxR"
      },
      "source": [
        "$$ a^T b = \\left\\lVert a \\right\\rVert \\left\\lVert b \\right\\rVert \\cos \\theta_{ab}$$\n",
        "\n",
        "$$ \\cos \\theta_{ab} = \\frac{a^T b}{\\left\\lVert a \\right\\rVert \\left\\lVert b \\right\\rVert} $$"
      ]
    },
    {
      "cell_type": "markdown",
      "metadata": {
        "id": "HPnLQJ8zwjsZ"
      },
      "source": [
        "$$ \\left\\lVert a \\right\\rVert = \\sqrt{\\sum_{d=1}^D a_d^2 } $$"
      ]
    },
    {
      "cell_type": "code",
      "metadata": {
        "id": "uTIfhyQQsTW7",
        "colab": {
          "base_uri": "https://localhost:8080/"
        },
        "outputId": "72b79b24-cecc-495b-e3e9-850aacbcf1a4"
      },
      "source": [
        "amag = np.sqrt((a * a).sum())\n",
        "amag"
      ],
      "execution_count": 37,
      "outputs": [
        {
          "output_type": "execute_result",
          "data": {
            "text/plain": [
              "2.23606797749979"
            ]
          },
          "metadata": {},
          "execution_count": 37
        }
      ]
    },
    {
      "cell_type": "code",
      "metadata": {
        "id": "WmeKjge-sYc-",
        "colab": {
          "base_uri": "https://localhost:8080/"
        },
        "outputId": "04f5502d-77ee-48b5-acb7-638499d38d8e"
      },
      "source": [
        "amag = np.linalg.norm(amag)\n",
        "amag"
      ],
      "execution_count": 38,
      "outputs": [
        {
          "output_type": "execute_result",
          "data": {
            "text/plain": [
              "2.23606797749979"
            ]
          },
          "metadata": {},
          "execution_count": 38
        }
      ]
    },
    {
      "cell_type": "code",
      "metadata": {
        "id": "ABr65tNMsc7_"
      },
      "source": [
        "cosangle = a.dot(b) / (np.linalg.norm(a) * np.linalg.norm(b))"
      ],
      "execution_count": 39,
      "outputs": []
    },
    {
      "cell_type": "code",
      "metadata": {
        "id": "tFlv4mQcsho3",
        "colab": {
          "base_uri": "https://localhost:8080/"
        },
        "outputId": "4c5de8f8-a251-4098-9b0c-6ab041d2c8a6"
      },
      "source": [
        "cosangle"
      ],
      "execution_count": 40,
      "outputs": [
        {
          "output_type": "execute_result",
          "data": {
            "text/plain": [
              "0.9838699100999074"
            ]
          },
          "metadata": {},
          "execution_count": 40
        }
      ]
    },
    {
      "cell_type": "code",
      "metadata": {
        "id": "6zwbfBYIsi_P",
        "colab": {
          "base_uri": "https://localhost:8080/"
        },
        "outputId": "6557575c-9587-4d3f-c85c-18210fc1a6bc"
      },
      "source": [
        "angle = np.arccos(cosangle)\n",
        "angle"
      ],
      "execution_count": 41,
      "outputs": [
        {
          "output_type": "execute_result",
          "data": {
            "text/plain": [
              "0.17985349979247847"
            ]
          },
          "metadata": {},
          "execution_count": 41
        }
      ]
    },
    {
      "cell_type": "markdown",
      "metadata": {
        "id": "m7rqbLCcLwUU"
      },
      "source": [
        "## Speed Test"
      ]
    },
    {
      "cell_type": "code",
      "metadata": {
        "id": "1A4r4yUA8haB",
        "colab": {
          "base_uri": "https://localhost:8080/"
        },
        "outputId": "321eff41-19e7-4629-e9b9-6adc1517da62"
      },
      "source": [
        "## speed comparison ##\n",
        "import numpy as np\n",
        "from datetime import datetime\n",
        "\n",
        "# note: you can also use %timeit\n",
        "\n",
        "a = np.random.randn(100)\n",
        "b = np.random.randn(100)\n",
        "T = 100000\n",
        "\n",
        "def slow_dot_product(a, b):\n",
        "  result = 0\n",
        "  for e, f in zip(a, b):\n",
        "    result += e*f\n",
        "  return result\n",
        "\n",
        "t0 = datetime.now()\n",
        "for t in range(T):\n",
        "  slow_dot_product(a, b)\n",
        "dt1 = datetime.now() - t0\n",
        "\n",
        "t0 = datetime.now()\n",
        "for t in range(T):\n",
        "  a.dot(b)\n",
        "dt2 = datetime.now() - t0\n",
        "\n",
        "print(\"dt1 / dt2:\", dt1.total_seconds() / dt2.total_seconds())"
      ],
      "execution_count": 43,
      "outputs": [
        {
          "output_type": "stream",
          "name": "stdout",
          "text": [
            "dt1 / dt2: 64.64661497125196\n"
          ]
        }
      ]
    },
    {
      "cell_type": "markdown",
      "metadata": {
        "id": "Dp6XgRz-Lx0a"
      },
      "source": [
        "## Matrices"
      ]
    },
    {
      "cell_type": "code",
      "metadata": {
        "id": "yy5O-BRCLzBi",
        "colab": {
          "base_uri": "https://localhost:8080/"
        },
        "outputId": "0814189e-be0d-40c4-c199-727f85623956"
      },
      "source": [
        "L = [[1,2], [3,4]]\n",
        "L"
      ],
      "execution_count": 44,
      "outputs": [
        {
          "output_type": "execute_result",
          "data": {
            "text/plain": [
              "[[1, 2], [3, 4]]"
            ]
          },
          "metadata": {},
          "execution_count": 44
        }
      ]
    },
    {
      "cell_type": "code",
      "metadata": {
        "id": "8LKJa4A8M93b",
        "colab": {
          "base_uri": "https://localhost:8080/"
        },
        "outputId": "6bd0641a-7207-48ae-94db-19e6372ab81e"
      },
      "source": [
        "L[0]"
      ],
      "execution_count": 45,
      "outputs": [
        {
          "output_type": "execute_result",
          "data": {
            "text/plain": [
              "[1, 2]"
            ]
          },
          "metadata": {},
          "execution_count": 45
        }
      ]
    },
    {
      "cell_type": "code",
      "metadata": {
        "id": "urv6P_-OM-na",
        "colab": {
          "base_uri": "https://localhost:8080/"
        },
        "outputId": "20a69dae-1622-471a-8a72-2446afd1c1c3"
      },
      "source": [
        "L[0][1]"
      ],
      "execution_count": 46,
      "outputs": [
        {
          "output_type": "execute_result",
          "data": {
            "text/plain": [
              "2"
            ]
          },
          "metadata": {},
          "execution_count": 46
        }
      ]
    },
    {
      "cell_type": "code",
      "metadata": {
        "id": "D83WMGZsNVpd",
        "colab": {
          "base_uri": "https://localhost:8080/"
        },
        "outputId": "5adf8259-744d-4b2c-c8bc-24b75d0a32e5"
      },
      "source": [
        "A = np.array([[1,2], [3,4]])\n",
        "A"
      ],
      "execution_count": 47,
      "outputs": [
        {
          "output_type": "execute_result",
          "data": {
            "text/plain": [
              "array([[1, 2],\n",
              "       [3, 4]])"
            ]
          },
          "metadata": {},
          "execution_count": 47
        }
      ]
    },
    {
      "cell_type": "code",
      "metadata": {
        "id": "opW1ghAwRu9a",
        "colab": {
          "base_uri": "https://localhost:8080/"
        },
        "outputId": "725b51ce-1993-4671-c46f-2c256ff24fd8"
      },
      "source": [
        "A[0][1]"
      ],
      "execution_count": 48,
      "outputs": [
        {
          "output_type": "execute_result",
          "data": {
            "text/plain": [
              "2"
            ]
          },
          "metadata": {},
          "execution_count": 48
        }
      ]
    },
    {
      "cell_type": "code",
      "metadata": {
        "id": "OVV5gimRRx8-",
        "colab": {
          "base_uri": "https://localhost:8080/"
        },
        "outputId": "5ff8a613-6b93-4df4-c812-fa0e31026232"
      },
      "source": [
        "A[0,1]"
      ],
      "execution_count": 49,
      "outputs": [
        {
          "output_type": "execute_result",
          "data": {
            "text/plain": [
              "2"
            ]
          },
          "metadata": {},
          "execution_count": 49
        }
      ]
    },
    {
      "cell_type": "code",
      "metadata": {
        "id": "9X2_e9tGoM7b",
        "colab": {
          "base_uri": "https://localhost:8080/"
        },
        "outputId": "894909f1-9c81-4346-da1e-03ab460ddf27"
      },
      "source": [
        "A[:,0]"
      ],
      "execution_count": 50,
      "outputs": [
        {
          "output_type": "execute_result",
          "data": {
            "text/plain": [
              "array([1, 3])"
            ]
          },
          "metadata": {},
          "execution_count": 50
        }
      ]
    },
    {
      "cell_type": "code",
      "metadata": {
        "id": "P131KAabR0jr",
        "colab": {
          "base_uri": "https://localhost:8080/"
        },
        "outputId": "45695b1a-16f6-40de-e27c-f5962c541c74"
      },
      "source": [
        "A.T"
      ],
      "execution_count": 51,
      "outputs": [
        {
          "output_type": "execute_result",
          "data": {
            "text/plain": [
              "array([[1, 3],\n",
              "       [2, 4]])"
            ]
          },
          "metadata": {},
          "execution_count": 51
        }
      ]
    },
    {
      "cell_type": "code",
      "metadata": {
        "id": "_Z-OdLyfbSIj",
        "colab": {
          "base_uri": "https://localhost:8080/"
        },
        "outputId": "5c9ca379-3364-47a1-cb4f-e890233f0446"
      },
      "source": [
        "np.exp(A)"
      ],
      "execution_count": 52,
      "outputs": [
        {
          "output_type": "execute_result",
          "data": {
            "text/plain": [
              "array([[ 2.71828183,  7.3890561 ],\n",
              "       [20.08553692, 54.59815003]])"
            ]
          },
          "metadata": {},
          "execution_count": 52
        }
      ]
    },
    {
      "cell_type": "code",
      "metadata": {
        "id": "QU7kqXTZNX4_",
        "colab": {
          "base_uri": "https://localhost:8080/"
        },
        "outputId": "70fbe81e-7ab6-4554-fb11-f1f567a78a49"
      },
      "source": [
        "np.exp(L)"
      ],
      "execution_count": 53,
      "outputs": [
        {
          "output_type": "execute_result",
          "data": {
            "text/plain": [
              "array([[ 2.71828183,  7.3890561 ],\n",
              "       [20.08553692, 54.59815003]])"
            ]
          },
          "metadata": {},
          "execution_count": 53
        }
      ]
    },
    {
      "cell_type": "code",
      "metadata": {
        "id": "VXw7euSIbagB",
        "colab": {
          "base_uri": "https://localhost:8080/"
        },
        "outputId": "bd15190d-43ae-4707-fa9c-3dd768d12149"
      },
      "source": [
        "B = np.array([[1,2,3],[4,5,6]])\n",
        "B"
      ],
      "execution_count": 54,
      "outputs": [
        {
          "output_type": "execute_result",
          "data": {
            "text/plain": [
              "array([[1, 2, 3],\n",
              "       [4, 5, 6]])"
            ]
          },
          "metadata": {},
          "execution_count": 54
        }
      ]
    },
    {
      "cell_type": "code",
      "metadata": {
        "id": "i8-Exef9hhXs",
        "colab": {
          "base_uri": "https://localhost:8080/"
        },
        "outputId": "53595917-d3f8-420b-a225-fa2dfb9cdb24"
      },
      "source": [
        "A.dot(B)"
      ],
      "execution_count": 55,
      "outputs": [
        {
          "output_type": "execute_result",
          "data": {
            "text/plain": [
              "array([[ 9, 12, 15],\n",
              "       [19, 26, 33]])"
            ]
          },
          "metadata": {},
          "execution_count": 55
        }
      ]
    },
    {
      "cell_type": "code",
      "metadata": {
        "id": "W_sNxQQ2iQns",
        "colab": {
          "base_uri": "https://localhost:8080/",
          "height": 180
        },
        "outputId": "f756ee0b-fd31-4496-bc93-63deaafd19f2"
      },
      "source": [
        "# error! inner dimensions must match\n",
        "A.dot(B.T)"
      ],
      "execution_count": 56,
      "outputs": [
        {
          "output_type": "error",
          "ename": "ValueError",
          "evalue": "ignored",
          "traceback": [
            "\u001b[0;31m---------------------------------------------------------------------------\u001b[0m",
            "\u001b[0;31mValueError\u001b[0m                                Traceback (most recent call last)",
            "\u001b[0;32m<ipython-input-56-33688f1b9b55>\u001b[0m in \u001b[0;36m<module>\u001b[0;34m()\u001b[0m\n\u001b[1;32m      1\u001b[0m \u001b[0;31m# error! inner dimensions must match\u001b[0m\u001b[0;34m\u001b[0m\u001b[0;34m\u001b[0m\u001b[0;34m\u001b[0m\u001b[0m\n\u001b[0;32m----> 2\u001b[0;31m \u001b[0mA\u001b[0m\u001b[0;34m.\u001b[0m\u001b[0mdot\u001b[0m\u001b[0;34m(\u001b[0m\u001b[0mB\u001b[0m\u001b[0;34m.\u001b[0m\u001b[0mT\u001b[0m\u001b[0;34m)\u001b[0m\u001b[0;34m\u001b[0m\u001b[0;34m\u001b[0m\u001b[0m\n\u001b[0m",
            "\u001b[0;31mValueError\u001b[0m: shapes (2,2) and (3,2) not aligned: 2 (dim 1) != 3 (dim 0)"
          ]
        }
      ]
    },
    {
      "cell_type": "code",
      "metadata": {
        "id": "q39ZD3R9bk93",
        "colab": {
          "base_uri": "https://localhost:8080/"
        },
        "outputId": "301db5ed-e2a9-4821-d339-cc37b8deed21"
      },
      "source": [
        "np.linalg.det(A)"
      ],
      "execution_count": 57,
      "outputs": [
        {
          "output_type": "execute_result",
          "data": {
            "text/plain": [
              "-2.0000000000000004"
            ]
          },
          "metadata": {},
          "execution_count": 57
        }
      ]
    },
    {
      "cell_type": "code",
      "metadata": {
        "id": "o7hrwfcubuEH",
        "colab": {
          "base_uri": "https://localhost:8080/"
        },
        "outputId": "774bfade-1bce-4d0d-8cbc-d135db0bd784"
      },
      "source": [
        "np.linalg.inv(A)"
      ],
      "execution_count": 58,
      "outputs": [
        {
          "output_type": "execute_result",
          "data": {
            "text/plain": [
              "array([[-2. ,  1. ],\n",
              "       [ 1.5, -0.5]])"
            ]
          },
          "metadata": {},
          "execution_count": 58
        }
      ]
    },
    {
      "cell_type": "code",
      "metadata": {
        "id": "psvVfsBliu3U",
        "colab": {
          "base_uri": "https://localhost:8080/"
        },
        "outputId": "ddfae085-6f57-4809-f41e-9479ae0edf6d"
      },
      "source": [
        "np.linalg.inv(A).dot(A)"
      ],
      "execution_count": 59,
      "outputs": [
        {
          "output_type": "execute_result",
          "data": {
            "text/plain": [
              "array([[1.00000000e+00, 0.00000000e+00],\n",
              "       [1.11022302e-16, 1.00000000e+00]])"
            ]
          },
          "metadata": {},
          "execution_count": 59
        }
      ]
    },
    {
      "cell_type": "code",
      "metadata": {
        "id": "kdCoG55jbyIs",
        "colab": {
          "base_uri": "https://localhost:8080/"
        },
        "outputId": "4fb31aaa-a2c4-4f62-c0b5-c4056fdb9d90"
      },
      "source": [
        "np.trace(A)"
      ],
      "execution_count": 60,
      "outputs": [
        {
          "output_type": "execute_result",
          "data": {
            "text/plain": [
              "5"
            ]
          },
          "metadata": {},
          "execution_count": 60
        }
      ]
    },
    {
      "cell_type": "code",
      "metadata": {
        "id": "1-leTZncnOVR",
        "colab": {
          "base_uri": "https://localhost:8080/"
        },
        "outputId": "30a7f832-cc74-46eb-d44f-ddce6000895b"
      },
      "source": [
        "np.diag(A)"
      ],
      "execution_count": 61,
      "outputs": [
        {
          "output_type": "execute_result",
          "data": {
            "text/plain": [
              "array([1, 4])"
            ]
          },
          "metadata": {},
          "execution_count": 61
        }
      ]
    },
    {
      "cell_type": "code",
      "metadata": {
        "id": "JBQsiS-XnV7v",
        "colab": {
          "base_uri": "https://localhost:8080/"
        },
        "outputId": "50453209-25ae-4d52-9185-18c530871b72"
      },
      "source": [
        "np.diag([1, 4])"
      ],
      "execution_count": 63,
      "outputs": [
        {
          "output_type": "execute_result",
          "data": {
            "text/plain": [
              "array([[1, 0],\n",
              "       [0, 4]])"
            ]
          },
          "metadata": {},
          "execution_count": 63
        }
      ]
    },
    {
      "cell_type": "code",
      "metadata": {
        "id": "pkNyKFBScAVd",
        "colab": {
          "base_uri": "https://localhost:8080/"
        },
        "outputId": "37b759cf-bb11-4d64-e74a-9770ef173deb"
      },
      "source": [
        "np.linalg.eig(A)"
      ],
      "execution_count": 64,
      "outputs": [
        {
          "output_type": "execute_result",
          "data": {
            "text/plain": [
              "(array([-0.37228132,  5.37228132]), array([[-0.82456484, -0.41597356],\n",
              "        [ 0.56576746, -0.90937671]]))"
            ]
          },
          "metadata": {},
          "execution_count": 64
        }
      ]
    },
    {
      "cell_type": "code",
      "metadata": {
        "id": "K7xvgXLqcHQR"
      },
      "source": [
        "Lam, V = np.linalg.eig(A)"
      ],
      "execution_count": 65,
      "outputs": []
    },
    {
      "cell_type": "code",
      "metadata": {
        "id": "h6dEgMo5wuWl",
        "colab": {
          "base_uri": "https://localhost:8080/"
        },
        "outputId": "f4327e61-6758-4a18-e376-999ab52c289b"
      },
      "source": [
        "V[:,0] * Lam[0] == A @ V[:,0]"
      ],
      "execution_count": 66,
      "outputs": [
        {
          "output_type": "execute_result",
          "data": {
            "text/plain": [
              "array([ True, False])"
            ]
          },
          "metadata": {},
          "execution_count": 66
        }
      ]
    },
    {
      "cell_type": "code",
      "metadata": {
        "id": "jHllWY7Hw7hG",
        "colab": {
          "base_uri": "https://localhost:8080/"
        },
        "outputId": "87b646d1-6338-4fb4-9e50-5935e13f29ef"
      },
      "source": [
        "V[:,0] * Lam[0], A @ V[:,0]"
      ],
      "execution_count": 67,
      "outputs": [
        {
          "output_type": "execute_result",
          "data": {
            "text/plain": [
              "(array([ 0.30697009, -0.21062466]), array([ 0.30697009, -0.21062466]))"
            ]
          },
          "metadata": {},
          "execution_count": 67
        }
      ]
    },
    {
      "cell_type": "code",
      "metadata": {
        "id": "m4dFN99Hw3fk",
        "colab": {
          "base_uri": "https://localhost:8080/"
        },
        "outputId": "c3f62999-eddb-4c51-c72c-31e7c040b525"
      },
      "source": [
        "np.allclose(V[:,0] * Lam[0], A @ V[:,0])"
      ],
      "execution_count": 68,
      "outputs": [
        {
          "output_type": "execute_result",
          "data": {
            "text/plain": [
              "True"
            ]
          },
          "metadata": {},
          "execution_count": 68
        }
      ]
    },
    {
      "cell_type": "code",
      "metadata": {
        "id": "8jH2Av91cLxx",
        "colab": {
          "base_uri": "https://localhost:8080/"
        },
        "outputId": "b3cc040d-f891-421b-909d-443698928830"
      },
      "source": [
        "np.allclose(V @ np.diag(Lam), A @ V)"
      ],
      "execution_count": 69,
      "outputs": [
        {
          "output_type": "execute_result",
          "data": {
            "text/plain": [
              "True"
            ]
          },
          "metadata": {},
          "execution_count": 69
        }
      ]
    },
    {
      "cell_type": "markdown",
      "metadata": {
        "id": "MF9n94OXzEHc"
      },
      "source": [
        "## Solving Linear Systems"
      ]
    },
    {
      "cell_type": "code",
      "metadata": {
        "id": "pHMyzjoHzFi7"
      },
      "source": [
        "A = np.array([[1, 1], [1.5, 4]])\n",
        "b = np.array([2200, 5050])"
      ],
      "execution_count": 70,
      "outputs": []
    },
    {
      "cell_type": "code",
      "metadata": {
        "id": "ljjG7KI685Vd",
        "colab": {
          "base_uri": "https://localhost:8080/"
        },
        "outputId": "278f47a4-9dca-42ce-8c1e-88ce2498525c"
      },
      "source": [
        "np.linalg.solve(A, b)"
      ],
      "execution_count": 71,
      "outputs": [
        {
          "output_type": "execute_result",
          "data": {
            "text/plain": [
              "array([1500.,  700.])"
            ]
          },
          "metadata": {},
          "execution_count": 71
        }
      ]
    },
    {
      "cell_type": "code",
      "metadata": {
        "id": "hJjnYgbX870H",
        "colab": {
          "base_uri": "https://localhost:8080/"
        },
        "outputId": "5379edc0-e954-4868-aa21-518f8234859c"
      },
      "source": [
        "# don't do this\n",
        "np.linalg.inv(A).dot(b)"
      ],
      "execution_count": 72,
      "outputs": [
        {
          "output_type": "execute_result",
          "data": {
            "text/plain": [
              "array([1500.,  700.])"
            ]
          },
          "metadata": {},
          "execution_count": 72
        }
      ]
    },
    {
      "cell_type": "markdown",
      "metadata": {
        "id": "EH2huugGChb7"
      },
      "source": [
        "## Generating Data"
      ]
    },
    {
      "cell_type": "code",
      "metadata": {
        "id": "afs43yD5Ciqg",
        "colab": {
          "base_uri": "https://localhost:8080/"
        },
        "outputId": "6e29ee86-cce7-4d06-eb2e-c5f6f15f9f40"
      },
      "source": [
        "np.zeros((2, 3))"
      ],
      "execution_count": 73,
      "outputs": [
        {
          "output_type": "execute_result",
          "data": {
            "text/plain": [
              "array([[0., 0., 0.],\n",
              "       [0., 0., 0.]])"
            ]
          },
          "metadata": {},
          "execution_count": 73
        }
      ]
    },
    {
      "cell_type": "code",
      "metadata": {
        "id": "B5_T7Y0VMO02",
        "colab": {
          "base_uri": "https://localhost:8080/"
        },
        "outputId": "e5bcab2f-ba86-49ba-8906-f4c919b68b1b"
      },
      "source": [
        "np.ones((2, 3))"
      ],
      "execution_count": 74,
      "outputs": [
        {
          "output_type": "execute_result",
          "data": {
            "text/plain": [
              "array([[1., 1., 1.],\n",
              "       [1., 1., 1.]])"
            ]
          },
          "metadata": {},
          "execution_count": 74
        }
      ]
    },
    {
      "cell_type": "code",
      "metadata": {
        "id": "K6x0L6PhMQRl",
        "colab": {
          "base_uri": "https://localhost:8080/"
        },
        "outputId": "9923b8b6-6888-460c-b464-33c4d443986e"
      },
      "source": [
        "10 * np.ones((2, 3))"
      ],
      "execution_count": 75,
      "outputs": [
        {
          "output_type": "execute_result",
          "data": {
            "text/plain": [
              "array([[10., 10., 10.],\n",
              "       [10., 10., 10.]])"
            ]
          },
          "metadata": {},
          "execution_count": 75
        }
      ]
    },
    {
      "cell_type": "code",
      "metadata": {
        "id": "yunyooXkMgph",
        "colab": {
          "base_uri": "https://localhost:8080/"
        },
        "outputId": "62bf2010-147f-45bd-afb0-ed257b3d45d4"
      },
      "source": [
        "np.eye(3)"
      ],
      "execution_count": 76,
      "outputs": [
        {
          "output_type": "execute_result",
          "data": {
            "text/plain": [
              "array([[1., 0., 0.],\n",
              "       [0., 1., 0.],\n",
              "       [0., 0., 1.]])"
            ]
          },
          "metadata": {},
          "execution_count": 76
        }
      ]
    },
    {
      "cell_type": "code",
      "metadata": {
        "id": "MEjifZddOOM9",
        "colab": {
          "base_uri": "https://localhost:8080/"
        },
        "outputId": "bdebfd83-2903-44db-c1af-1ed0185cfb67"
      },
      "source": [
        "np.random.random()"
      ],
      "execution_count": 77,
      "outputs": [
        {
          "output_type": "execute_result",
          "data": {
            "text/plain": [
              "0.5637169392935921"
            ]
          },
          "metadata": {},
          "execution_count": 77
        }
      ]
    },
    {
      "cell_type": "code",
      "metadata": {
        "id": "OwbTs3khOY0W",
        "colab": {
          "base_uri": "https://localhost:8080/"
        },
        "outputId": "07820cc9-ef06-477c-b9b7-a4288e31c0a8"
      },
      "source": [
        "np.random.random((2, 3))"
      ],
      "execution_count": 78,
      "outputs": [
        {
          "output_type": "execute_result",
          "data": {
            "text/plain": [
              "array([[0.77744274, 0.21503157, 0.29160993],\n",
              "       [0.04266343, 0.69753803, 0.76455997]])"
            ]
          },
          "metadata": {},
          "execution_count": 78
        }
      ]
    },
    {
      "cell_type": "code",
      "metadata": {
        "id": "TsZhBWcdPPwK",
        "colab": {
          "base_uri": "https://localhost:8080/"
        },
        "outputId": "648da3c0-ceaa-4819-fe24-5a0945169fc4"
      },
      "source": [
        "np.random.randn(2, 3)"
      ],
      "execution_count": 79,
      "outputs": [
        {
          "output_type": "execute_result",
          "data": {
            "text/plain": [
              "array([[ 0.1016958 ,  0.31418748,  0.64829256],\n",
              "       [ 1.9339179 ,  0.9006282 , -0.52569577]])"
            ]
          },
          "metadata": {},
          "execution_count": 79
        }
      ]
    },
    {
      "cell_type": "code",
      "metadata": {
        "id": "QRVlFW8mYXdv"
      },
      "source": [
        "R = np.random.randn(10000)"
      ],
      "execution_count": 80,
      "outputs": []
    },
    {
      "cell_type": "code",
      "metadata": {
        "id": "g4am8a3ZYaam",
        "colab": {
          "base_uri": "https://localhost:8080/"
        },
        "outputId": "a0918b2c-7a96-494a-f676-722e01c8c20e"
      },
      "source": [
        "R.mean()"
      ],
      "execution_count": 81,
      "outputs": [
        {
          "output_type": "execute_result",
          "data": {
            "text/plain": [
              "0.010137546072198363"
            ]
          },
          "metadata": {},
          "execution_count": 81
        }
      ]
    },
    {
      "cell_type": "code",
      "metadata": {
        "id": "hbggL_0n0I8S",
        "colab": {
          "base_uri": "https://localhost:8080/"
        },
        "outputId": "f9cbbdd7-1d48-4a0d-8f13-49902e953e16"
      },
      "source": [
        "np.mean(R)"
      ],
      "execution_count": 82,
      "outputs": [
        {
          "output_type": "execute_result",
          "data": {
            "text/plain": [
              "0.010137546072198363"
            ]
          },
          "metadata": {},
          "execution_count": 82
        }
      ]
    },
    {
      "cell_type": "code",
      "metadata": {
        "id": "ofYpDmxgYnAL",
        "colab": {
          "base_uri": "https://localhost:8080/"
        },
        "outputId": "4c1ce6f7-1025-4b18-bd73-e5b5833024c0"
      },
      "source": [
        "R.var()"
      ],
      "execution_count": 83,
      "outputs": [
        {
          "output_type": "execute_result",
          "data": {
            "text/plain": [
              "0.9932437472024359"
            ]
          },
          "metadata": {},
          "execution_count": 83
        }
      ]
    },
    {
      "cell_type": "code",
      "metadata": {
        "id": "-pwAoqmwYxf1"
      },
      "source": [
        "R = np.random.randn(10000, 3)"
      ],
      "execution_count": 84,
      "outputs": []
    },
    {
      "cell_type": "code",
      "metadata": {
        "id": "1jsCMjuUZGgq",
        "colab": {
          "base_uri": "https://localhost:8080/"
        },
        "outputId": "00727061-e5cc-43b6-81c4-2203b5a6bc6b"
      },
      "source": [
        "R.mean(axis=0)"
      ],
      "execution_count": 85,
      "outputs": [
        {
          "output_type": "execute_result",
          "data": {
            "text/plain": [
              "array([ 0.01054297, -0.0044528 , -0.00481728])"
            ]
          },
          "metadata": {},
          "execution_count": 85
        }
      ]
    },
    {
      "cell_type": "code",
      "metadata": {
        "id": "Ghv9E_tPZXDn",
        "colab": {
          "base_uri": "https://localhost:8080/"
        },
        "outputId": "3bee7162-f0ec-4133-e3b5-e90a2b68381a"
      },
      "source": [
        "R.mean(axis=1).shape"
      ],
      "execution_count": 86,
      "outputs": [
        {
          "output_type": "execute_result",
          "data": {
            "text/plain": [
              "(10000,)"
            ]
          },
          "metadata": {},
          "execution_count": 86
        }
      ]
    },
    {
      "cell_type": "code",
      "metadata": {
        "id": "KmdHkq-FiOG2",
        "colab": {
          "base_uri": "https://localhost:8080/"
        },
        "outputId": "a4bf26f6-a789-44d4-b950-2aa54225bcd3"
      },
      "source": [
        "np.cov(R).shape"
      ],
      "execution_count": 87,
      "outputs": [
        {
          "output_type": "execute_result",
          "data": {
            "text/plain": [
              "(10000, 10000)"
            ]
          },
          "metadata": {},
          "execution_count": 87
        }
      ]
    },
    {
      "cell_type": "code",
      "metadata": {
        "id": "Z73Tog0WiRTy",
        "colab": {
          "base_uri": "https://localhost:8080/"
        },
        "outputId": "b2b5c393-eb3b-4544-a126-c9c70236bae9"
      },
      "source": [
        "np.cov(R.T)"
      ],
      "execution_count": 88,
      "outputs": [
        {
          "output_type": "execute_result",
          "data": {
            "text/plain": [
              "array([[ 0.98735245, -0.00920079,  0.00300037],\n",
              "       [-0.00920079,  0.99625989, -0.00402462],\n",
              "       [ 0.00300037, -0.00402462,  1.00052687]])"
            ]
          },
          "metadata": {},
          "execution_count": 88
        }
      ]
    },
    {
      "cell_type": "code",
      "metadata": {
        "id": "tBAzvX8TiTlB",
        "colab": {
          "base_uri": "https://localhost:8080/"
        },
        "outputId": "4a45be2a-9c38-498a-9d87-df58530ef3a5"
      },
      "source": [
        "np.cov(R, rowvar=False)"
      ],
      "execution_count": 89,
      "outputs": [
        {
          "output_type": "execute_result",
          "data": {
            "text/plain": [
              "array([[ 0.98735245, -0.00920079,  0.00300037],\n",
              "       [-0.00920079,  0.99625989, -0.00402462],\n",
              "       [ 0.00300037, -0.00402462,  1.00052687]])"
            ]
          },
          "metadata": {},
          "execution_count": 89
        }
      ]
    },
    {
      "cell_type": "code",
      "metadata": {
        "id": "ZxxOKs_ArYZs",
        "colab": {
          "base_uri": "https://localhost:8080/"
        },
        "outputId": "ae31463e-6358-4ec6-ae79-5f4a0b19ed8d"
      },
      "source": [
        "np.random.randint(0, 10, size=(3, 3))"
      ],
      "execution_count": 90,
      "outputs": [
        {
          "output_type": "execute_result",
          "data": {
            "text/plain": [
              "array([[3, 5, 0],\n",
              "       [8, 8, 6],\n",
              "       [9, 0, 7]])"
            ]
          },
          "metadata": {},
          "execution_count": 90
        }
      ]
    },
    {
      "cell_type": "code",
      "metadata": {
        "id": "ER8hjqUVsWv2",
        "colab": {
          "base_uri": "https://localhost:8080/"
        },
        "outputId": "575b984f-f29a-4ac6-c374-889bfa37adc4"
      },
      "source": [
        "np.random.choice(10, size=(3, 3))"
      ],
      "execution_count": 91,
      "outputs": [
        {
          "output_type": "execute_result",
          "data": {
            "text/plain": [
              "array([[8, 9, 4],\n",
              "       [3, 8, 1],\n",
              "       [7, 4, 5]])"
            ]
          },
          "metadata": {},
          "execution_count": 91
        }
      ]
    }
  ]
}