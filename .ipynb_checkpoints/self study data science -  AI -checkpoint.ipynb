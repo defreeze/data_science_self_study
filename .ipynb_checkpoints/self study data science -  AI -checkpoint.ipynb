{
 "cells": [
  {
   "cell_type": "markdown",
   "id": "unique-richardson",
   "metadata": {},
   "source": [
    "# Self study data science and AI"
   ]
  },
  {
   "cell_type": "markdown",
   "id": "wanted-storm",
   "metadata": {},
   "source": [
    "This document contains an overview of topics to study related to data science and AI\n",
    "The Github repository https://github.com/defreeze/data_science_self_study "
   ]
  },
  {
   "cell_type": "code",
   "execution_count": 3,
   "id": "handmade-newspaper",
   "metadata": {},
   "outputs": [
    {
     "data": {
      "text/plain": [
       "2"
      ]
     },
     "execution_count": 3,
     "metadata": {},
     "output_type": "execute_result"
    }
   ],
   "source": [
    "a = 1\n",
    "1 + a"
   ]
  },
  {
   "cell_type": "markdown",
   "id": "hidden-gibson",
   "metadata": {},
   "source": [
    "# header info"
   ]
  }
 ],
 "metadata": {
  "kernelspec": {
   "display_name": "Python 3",
   "language": "python",
   "name": "python3"
  },
  "language_info": {
   "codemirror_mode": {
    "name": "ipython",
    "version": 3
   },
   "file_extension": ".py",
   "mimetype": "text/x-python",
   "name": "python",
   "nbconvert_exporter": "python",
   "pygments_lexer": "ipython3",
   "version": "3.6.9"
  }
 },
 "nbformat": 4,
 "nbformat_minor": 5
}
